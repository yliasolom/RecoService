{
 "cells": [
  {
   "cell_type": "code",
   "execution_count": 1,
   "metadata": {},
   "outputs": [],
   "source": [
    "import os\n",
    "# В вектор-ых машинах мы учим представленние фичей - можем обобщить"
   ]
  },
  {
   "cell_type": "code",
   "execution_count": 2,
   "metadata": {},
   "outputs": [],
   "source": [
    "import warnings\n",
    "warnings.filterwarnings('ignore')"
   ]
  },
  {
   "cell_type": "code",
   "execution_count": 3,
   "metadata": {},
   "outputs": [],
   "source": [
    "import pandas as pd\n",
    "import numpy as np\n",
    "\n",
    "from implicit.als import AlternatingLeastSquares\n",
    "\n",
    "from rectools.metrics import Precision, Recall, MAP, calc_metrics\n",
    "from rectools.models import PopularModel, RandomModel, ImplicitALSWrapperModel\n",
    "from rectools import Columns\n",
    "from rectools.dataset import Dataset\n",
    "from rectools.models import ImplicitALSWrapperModel, LightFMWrapperModel\n",
    "\n",
    "\n",
    "import matplotlib.pyplot as plt\n",
    "import seaborn as sns\n",
    "\n",
    "import matplotlib.pyplot as plt\n",
    "from pathlib import Path\n",
    "import typing as tp\n",
    "from tqdm import tqdm\n",
    "\n",
    "from lightfm import LightFM\n",
    "\n",
    "from implicit.bpr import BayesianPersonalizedRanking\n",
    "\n",
    "from implicit.lmf import LogisticMatrixFactorization"
   ]
  },
  {
   "cell_type": "code",
   "execution_count": 4,
   "metadata": {},
   "outputs": [
    {
     "name": "stdout",
     "output_type": "stream",
     "text": [
      "/home/iuliiasolomennikova/!!!RecSysService/notebooks\n"
     ]
    }
   ],
   "source": [
    "!pwd"
   ]
  },
  {
   "cell_type": "code",
   "execution_count": 5,
   "metadata": {},
   "outputs": [],
   "source": [
    "DATA_PATH = Path(\"kion_train\")\n"
   ]
  },
  {
   "cell_type": "markdown",
   "metadata": {},
   "source": [
    "# LOAD DATA"
   ]
  },
  {
   "cell_type": "code",
   "execution_count": 6,
   "metadata": {},
   "outputs": [
    {
     "name": "stdout",
     "output_type": "stream",
     "text": [
      "CPU times: user 4.86 s, sys: 1.43 s, total: 6.28 s\n",
      "Wall time: 6.43 s\n"
     ]
    }
   ],
   "source": [
    "%%time\n",
    "users = pd.read_csv(DATA_PATH / 'users.csv')\n",
    "items = pd.read_csv(DATA_PATH / 'items.csv')\n",
    "interactions = pd.read_csv(DATA_PATH / 'interactions.csv')"
   ]
  },
  {
   "attachments": {},
   "cell_type": "markdown",
   "metadata": {},
   "source": [
    "# EDA"
   ]
  },
  {
   "cell_type": "markdown",
   "metadata": {},
   "source": [
    "### Users"
   ]
  },
  {
   "cell_type": "code",
   "execution_count": 7,
   "metadata": {},
   "outputs": [
    {
     "name": "stdout",
     "output_type": "stream",
     "text": [
      "Всего уникальных пользователей: 840,197\n"
     ]
    }
   ],
   "source": [
    "print(f\"Всего уникальных пользователей: {users[Columns.User].nunique():,}\")"
   ]
  },
  {
   "cell_type": "code",
   "execution_count": 8,
   "metadata": {},
   "outputs": [],
   "source": [
    "def plot_normalized_barh_chart(\n",
    "    dataframe: pd.DataFrame,\n",
    "    column_name: str,\n",
    "    title: str,\n",
    "    figsize: tp.Tuple[int, int] = (12, 7),\n",
    "    annotate_chart: bool = True,\n",
    "    xlabel: tp.Optional[str] = None,\n",
    "    ylabel: tp.Optional[str] = None,\n",
    ") -> plt.Axes.axes:\n",
    "    ax = (\n",
    "        dataframe[column_name]\n",
    "        .value_counts(dropna=False, normalize=True)\n",
    "        .sort_index()\n",
    "        .plot(\n",
    "            kind='barh',\n",
    "            grid=True,\n",
    "            title=title,\n",
    "            figsize=figsize,\n",
    "            xlabel=xlabel,\n",
    "            ylabel=ylabel,\n",
    "        )\n",
    "    )\n",
    "\n",
    "    if annotate_chart:\n",
    "        for bars in ax.containers:\n",
    "            ax.bar_label(bars, labels=[f'{x:.1%}' for x in bars.datavalues])"
   ]
  },
  {
   "cell_type": "code",
   "execution_count": 9,
   "metadata": {},
   "outputs": [],
   "source": [
    "users['sex'] = users['sex'].map({'Ж': 1, 'М': 0})"
   ]
  },
  {
   "cell_type": "code",
   "execution_count": 10,
   "metadata": {},
   "outputs": [
    {
     "data": {
      "image/png": "[encoded data removed]",
      "text/plain": [
       "<Figure size 864x504 with 1 Axes>"
      ]
     },
     "metadata": {
      "needs_background": "light"
     },
     "output_type": "display_data"
    }
   ],
   "source": [
    "plot_normalized_barh_chart(users, 'sex', 'Расределение мужчин и женщин')"
   ]
  },
  {
   "cell_type": "code",
   "execution_count": 11,
   "metadata": {},
   "outputs": [],
   "source": [
    "age_category = pd.CategoricalDtype(\n",
    "    categories=[\n",
    "        'age_18_24',\n",
    "        'age_25_34',\n",
    "        'age_35_44',\n",
    "        'age_45_54',\n",
    "        'age_55_64',\n",
    "        'age_65_inf',\n",
    "    ],\n",
    "    ordered=True,\n",
    ")"
   ]
  },
  {
   "cell_type": "code",
   "execution_count": 12,
   "metadata": {},
   "outputs": [],
   "source": [
    "users['age'] = users['age'].astype(age_category)"
   ]
  },
  {
   "cell_type": "code",
   "execution_count": 14,
   "metadata": {},
   "outputs": [
    {
     "data": {
      "image/png": "[encoded data removed]",
      "text/plain": [
       "<Figure size 864x504 with 1 Axes>"
      ]
     },
     "metadata": {
      "needs_background": "light"
     },
     "output_type": "display_data"
    }
   ],
   "source": [
    "plot_normalized_barh_chart(users, 'age', 'Расределение возраста')"
   ]
  },
  {
   "cell_type": "code",
   "execution_count": 15,
   "metadata": {},
   "outputs": [],
   "source": [
    "income_category = pd.CategoricalDtype(\n",
    "    categories=[\n",
    "        'income_0_20',\n",
    "        'income_20_40',\n",
    "        'income_40_60',\n",
    "        'income_60_90',\n",
    "        'income_90_150',\n",
    "        'income_150_inf',\n",
    "    ],\n",
    "    ordered=True,\n",
    ")"
   ]
  },
  {
   "cell_type": "code",
   "execution_count": 16,
   "metadata": {},
   "outputs": [],
   "source": [
    "users['income'] = users['income'].astype(income_category)"
   ]
  },
  {
   "cell_type": "code",
   "execution_count": 17,
   "metadata": {},
   "outputs": [
    {
     "data": {
      "text/html": [
       "<div>\n",
       "<style scoped>\n",
       "    .dataframe tbody tr th:only-of-type {\n",
       "        vertical-align: middle;\n",
       "    }\n",
       "\n",
       "    .dataframe tbody tr th {\n",
       "        vertical-align: top;\n",
       "    }\n",
       "\n",
       "    .dataframe thead th {\n",
       "        text-align: right;\n",
       "    }\n",
       "</style>\n",
       "<table border=\"1\" class=\"dataframe\">\n",
       "  <thead>\n",
       "    <tr style=\"text-align: right;\">\n",
       "      <th></th>\n",
       "      <th>user_id</th>\n",
       "      <th>age</th>\n",
       "      <th>income</th>\n",
       "      <th>sex</th>\n",
       "      <th>kids_flg</th>\n",
       "    </tr>\n",
       "  </thead>\n",
       "  <tbody>\n",
       "    <tr>\n",
       "      <th>0</th>\n",
       "      <td>973171</td>\n",
       "      <td>age_25_34</td>\n",
       "      <td>income_60_90</td>\n",
       "      <td>0.0</td>\n",
       "      <td>1</td>\n",
       "    </tr>\n",
       "    <tr>\n",
       "      <th>1</th>\n",
       "      <td>962099</td>\n",
       "      <td>age_18_24</td>\n",
       "      <td>income_20_40</td>\n",
       "      <td>0.0</td>\n",
       "      <td>0</td>\n",
       "    </tr>\n",
       "    <tr>\n",
       "      <th>2</th>\n",
       "      <td>1047345</td>\n",
       "      <td>age_45_54</td>\n",
       "      <td>income_40_60</td>\n",
       "      <td>1.0</td>\n",
       "      <td>0</td>\n",
       "    </tr>\n",
       "    <tr>\n",
       "      <th>3</th>\n",
       "      <td>721985</td>\n",
       "      <td>age_45_54</td>\n",
       "      <td>income_20_40</td>\n",
       "      <td>1.0</td>\n",
       "      <td>0</td>\n",
       "    </tr>\n",
       "    <tr>\n",
       "      <th>4</th>\n",
       "      <td>704055</td>\n",
       "      <td>age_35_44</td>\n",
       "      <td>income_60_90</td>\n",
       "      <td>1.0</td>\n",
       "      <td>0</td>\n",
       "    </tr>\n",
       "    <tr>\n",
       "      <th>...</th>\n",
       "      <td>...</td>\n",
       "      <td>...</td>\n",
       "      <td>...</td>\n",
       "      <td>...</td>\n",
       "      <td>...</td>\n",
       "    </tr>\n",
       "    <tr>\n",
       "      <th>840192</th>\n",
       "      <td>339025</td>\n",
       "      <td>age_65_inf</td>\n",
       "      <td>income_0_20</td>\n",
       "      <td>1.0</td>\n",
       "      <td>0</td>\n",
       "    </tr>\n",
       "    <tr>\n",
       "      <th>840193</th>\n",
       "      <td>983617</td>\n",
       "      <td>age_18_24</td>\n",
       "      <td>income_20_40</td>\n",
       "      <td>1.0</td>\n",
       "      <td>1</td>\n",
       "    </tr>\n",
       "    <tr>\n",
       "      <th>840194</th>\n",
       "      <td>251008</td>\n",
       "      <td>NaN</td>\n",
       "      <td>NaN</td>\n",
       "      <td>NaN</td>\n",
       "      <td>0</td>\n",
       "    </tr>\n",
       "    <tr>\n",
       "      <th>840195</th>\n",
       "      <td>590706</td>\n",
       "      <td>NaN</td>\n",
       "      <td>NaN</td>\n",
       "      <td>1.0</td>\n",
       "      <td>0</td>\n",
       "    </tr>\n",
       "    <tr>\n",
       "      <th>840196</th>\n",
       "      <td>166555</td>\n",
       "      <td>age_65_inf</td>\n",
       "      <td>income_20_40</td>\n",
       "      <td>1.0</td>\n",
       "      <td>0</td>\n",
       "    </tr>\n",
       "  </tbody>\n",
       "</table>\n",
       "<p>840197 rows × 5 columns</p>\n",
       "</div>"
      ],
      "text/plain": [
       "        user_id         age        income  sex  kids_flg\n",
       "0        973171   age_25_34  income_60_90  0.0         1\n",
       "1        962099   age_18_24  income_20_40  0.0         0\n",
       "2       1047345   age_45_54  income_40_60  1.0         0\n",
       "3        721985   age_45_54  income_20_40  1.0         0\n",
       "4        704055   age_35_44  income_60_90  1.0         0\n",
       "...         ...         ...           ...  ...       ...\n",
       "840192   339025  age_65_inf   income_0_20  1.0         0\n",
       "840193   983617   age_18_24  income_20_40  1.0         1\n",
       "840194   251008         NaN           NaN  NaN         0\n",
       "840195   590706         NaN           NaN  1.0         0\n",
       "840196   166555  age_65_inf  income_20_40  1.0         0\n",
       "\n",
       "[840197 rows x 5 columns]"
      ]
     },
     "execution_count": 17,
     "metadata": {},
     "output_type": "execute_result"
    }
   ],
   "source": [
    "users"
   ]
  },
  {
   "cell_type": "code",
   "execution_count": 19,
   "metadata": {},
   "outputs": [
    {
     "data": {
      "image/png": "[encoded data removed]",
      "text/plain": [
       "<Figure size 864x504 with 1 Axes>"
      ]
     },
     "metadata": {
      "needs_background": "light"
     },
     "output_type": "display_data"
    }
   ],
   "source": [
    "plot_normalized_barh_chart(users, 'income', 'Распределение дохода')"
   ]
  },
  {
   "cell_type": "markdown",
   "metadata": {},
   "source": [
    "### Items"
   ]
  },
  {
   "cell_type": "code",
   "execution_count": 20,
   "metadata": {},
   "outputs": [
    {
     "name": "stdout",
     "output_type": "stream",
     "text": [
      "Всего уникальных items: 15,963\n"
     ]
    }
   ],
   "source": [
    "print(f\"Всего уникальных items: {items[Columns.Item].nunique():,}\")"
   ]
  },
  {
   "cell_type": "code",
   "execution_count": 21,
   "metadata": {},
   "outputs": [],
   "source": [
    "YEAR_FROM = 1990\n",
    "STEP_SIZE = 5\n",
    "bins = [year for year in range(YEAR_FROM, int(items['release_year'].max()) + STEP_SIZE, STEP_SIZE)]"
   ]
  },
  {
   "cell_type": "code",
   "execution_count": 35,
   "metadata": {},
   "outputs": [],
   "source": [
    "bins = [int(items['release_year'].min())] + bins"
   ]
  },
  {
   "cell_type": "code",
   "execution_count": 22,
   "metadata": {},
   "outputs": [],
   "source": [
    "items['year_bin'] = pd.cut(items['release_year'],\n",
    "                           bins=bins, include_lowest=True)"
   ]
  },
  {
   "cell_type": "code",
   "execution_count": 23,
   "metadata": {},
   "outputs": [
    {
     "data": {
      "image/png": "[encoded data removed]",
      "text/plain": [
       "<Figure size 864x504 with 1 Axes>"
      ]
     },
     "metadata": {
      "needs_background": "light"
     },
     "output_type": "display_data"
    }
   ],
   "source": [
    "plot_normalized_barh_chart(items, 'year_bin', 'Распределение по годам выхода контента')"
   ]
  },
  {
   "cell_type": "code",
   "execution_count": 24,
   "metadata": {},
   "outputs": [
    {
     "data": {
      "image/png": "[encoded data removed]",
      "text/plain": [
       "<Figure size 864x504 with 1 Axes>"
      ]
     },
     "metadata": {
      "needs_background": "light"
     },
     "output_type": "display_data"
    }
   ],
   "source": [
    "plot_normalized_barh_chart(items, 'content_type', 'Распределение контента')"
   ]
  },
  {
   "cell_type": "markdown",
   "metadata": {},
   "source": [
    "### Interactions"
   ]
  },
  {
   "cell_type": "code",
   "execution_count": 25,
   "metadata": {},
   "outputs": [
    {
     "name": "stdout",
     "output_type": "stream",
     "text": [
      "Кол-во уникальных пользователей и items в interactions\n"
     ]
    },
    {
     "data": {
      "text/plain": [
       "user_id    962179\n",
       "item_id     15706\n",
       "dtype: int64"
      ]
     },
     "execution_count": 25,
     "metadata": {},
     "output_type": "execute_result"
    }
   ],
   "source": [
    "print('Кол-во уникальных пользователей и items в interactions')\n",
    "interactions[Columns.UserItem].nunique()"
   ]
  },
  {
   "cell_type": "code",
   "execution_count": 26,
   "metadata": {},
   "outputs": [],
   "source": [
    "Columns.Datetime = 'last_watch_dt'"
   ]
  },
  {
   "cell_type": "code",
   "execution_count": 27,
   "metadata": {},
   "outputs": [],
   "source": [
    "interactions.drop(interactions[interactions[Columns.Datetime].str.len() != 10].index, inplace=True)"
   ]
  },
  {
   "cell_type": "code",
   "execution_count": 28,
   "metadata": {},
   "outputs": [
    {
     "data": {
      "text/plain": [
       "10    5476251\n",
       "Name: last_watch_dt, dtype: int64"
      ]
     },
     "execution_count": 28,
     "metadata": {},
     "output_type": "execute_result"
    }
   ],
   "source": [
    "interactions[Columns.Datetime].str.len().value_counts()"
   ]
  },
  {
   "cell_type": "code",
   "execution_count": 29,
   "metadata": {},
   "outputs": [
    {
     "data": {
      "text/plain": [
       "('2021-03-13', '2021-08-22')"
      ]
     },
     "execution_count": 29,
     "metadata": {},
     "output_type": "execute_result"
    }
   ],
   "source": [
    "interactions[Columns.Datetime].min(), interactions[Columns.Datetime].max()"
   ]
  },
  {
   "cell_type": "markdown",
   "metadata": {},
   "source": [
    "# Train/Test split"
   ]
  },
  {
   "cell_type": "code",
   "execution_count": 30,
   "metadata": {},
   "outputs": [],
   "source": [
    "interactions[Columns.Datetime] = pd.to_datetime(interactions[Columns.Datetime], format='%Y-%m-%d')"
   ]
  },
  {
   "cell_type": "code",
   "execution_count": 31,
   "metadata": {},
   "outputs": [
    {
     "data": {
      "text/html": [
       "<div>\n",
       "<style scoped>\n",
       "    .dataframe tbody tr th:only-of-type {\n",
       "        vertical-align: middle;\n",
       "    }\n",
       "\n",
       "    .dataframe tbody tr th {\n",
       "        vertical-align: top;\n",
       "    }\n",
       "\n",
       "    .dataframe thead th {\n",
       "        text-align: right;\n",
       "    }\n",
       "</style>\n",
       "<table border=\"1\" class=\"dataframe\">\n",
       "  <thead>\n",
       "    <tr style=\"text-align: right;\">\n",
       "      <th></th>\n",
       "      <th>user_id</th>\n",
       "      <th>item_id</th>\n",
       "      <th>last_watch_dt</th>\n",
       "      <th>total_dur</th>\n",
       "      <th>watched_pct</th>\n",
       "    </tr>\n",
       "  </thead>\n",
       "  <tbody>\n",
       "    <tr>\n",
       "      <th>0</th>\n",
       "      <td>176549</td>\n",
       "      <td>9506</td>\n",
       "      <td>2021-05-11</td>\n",
       "      <td>4250</td>\n",
       "      <td>72.0</td>\n",
       "    </tr>\n",
       "    <tr>\n",
       "      <th>1</th>\n",
       "      <td>699317</td>\n",
       "      <td>1659</td>\n",
       "      <td>2021-05-29</td>\n",
       "      <td>8317</td>\n",
       "      <td>100.0</td>\n",
       "    </tr>\n",
       "    <tr>\n",
       "      <th>2</th>\n",
       "      <td>656683</td>\n",
       "      <td>7107</td>\n",
       "      <td>2021-05-09</td>\n",
       "      <td>10</td>\n",
       "      <td>0.0</td>\n",
       "    </tr>\n",
       "    <tr>\n",
       "      <th>3</th>\n",
       "      <td>864613</td>\n",
       "      <td>7638</td>\n",
       "      <td>2021-07-05</td>\n",
       "      <td>14483</td>\n",
       "      <td>100.0</td>\n",
       "    </tr>\n",
       "    <tr>\n",
       "      <th>4</th>\n",
       "      <td>964868</td>\n",
       "      <td>9506</td>\n",
       "      <td>2021-04-30</td>\n",
       "      <td>6725</td>\n",
       "      <td>100.0</td>\n",
       "    </tr>\n",
       "    <tr>\n",
       "      <th>...</th>\n",
       "      <td>...</td>\n",
       "      <td>...</td>\n",
       "      <td>...</td>\n",
       "      <td>...</td>\n",
       "      <td>...</td>\n",
       "    </tr>\n",
       "    <tr>\n",
       "      <th>5476246</th>\n",
       "      <td>648596</td>\n",
       "      <td>12225</td>\n",
       "      <td>2021-08-13</td>\n",
       "      <td>76</td>\n",
       "      <td>0.0</td>\n",
       "    </tr>\n",
       "    <tr>\n",
       "      <th>5476247</th>\n",
       "      <td>546862</td>\n",
       "      <td>9673</td>\n",
       "      <td>2021-04-13</td>\n",
       "      <td>2308</td>\n",
       "      <td>49.0</td>\n",
       "    </tr>\n",
       "    <tr>\n",
       "      <th>5476248</th>\n",
       "      <td>697262</td>\n",
       "      <td>15297</td>\n",
       "      <td>2021-08-20</td>\n",
       "      <td>18307</td>\n",
       "      <td>63.0</td>\n",
       "    </tr>\n",
       "    <tr>\n",
       "      <th>5476249</th>\n",
       "      <td>384202</td>\n",
       "      <td>16197</td>\n",
       "      <td>2021-04-19</td>\n",
       "      <td>6203</td>\n",
       "      <td>100.0</td>\n",
       "    </tr>\n",
       "    <tr>\n",
       "      <th>5476250</th>\n",
       "      <td>319709</td>\n",
       "      <td>4436</td>\n",
       "      <td>2021-08-15</td>\n",
       "      <td>3921</td>\n",
       "      <td>45.0</td>\n",
       "    </tr>\n",
       "  </tbody>\n",
       "</table>\n",
       "<p>5476251 rows × 5 columns</p>\n",
       "</div>"
      ],
      "text/plain": [
       "         user_id  item_id last_watch_dt  total_dur  watched_pct\n",
       "0         176549     9506    2021-05-11       4250         72.0\n",
       "1         699317     1659    2021-05-29       8317        100.0\n",
       "2         656683     7107    2021-05-09         10          0.0\n",
       "3         864613     7638    2021-07-05      14483        100.0\n",
       "4         964868     9506    2021-04-30       6725        100.0\n",
       "...          ...      ...           ...        ...          ...\n",
       "5476246   648596    12225    2021-08-13         76          0.0\n",
       "5476247   546862     9673    2021-04-13       2308         49.0\n",
       "5476248   697262    15297    2021-08-20      18307         63.0\n",
       "5476249   384202    16197    2021-04-19       6203        100.0\n",
       "5476250   319709     4436    2021-08-15       3921         45.0\n",
       "\n",
       "[5476251 rows x 5 columns]"
      ]
     },
     "execution_count": 31,
     "metadata": {},
     "output_type": "execute_result"
    }
   ],
   "source": [
    "interactions"
   ]
  },
  {
   "cell_type": "code",
   "execution_count": 32,
   "metadata": {},
   "outputs": [],
   "source": [
    "max_date = interactions[Columns.Datetime].max()"
   ]
  },
  {
   "attachments": {},
   "cell_type": "markdown",
   "metadata": {},
   "source": [
    "Видим, что есть какие-то выбросы, пока на не обращаем внимание, посмотрим..."
   ]
  },
  {
   "cell_type": "code",
   "execution_count": 33,
   "metadata": {},
   "outputs": [
    {
     "data": {
      "text/plain": [
       "count     5476251.00\n",
       "mean         8295.49\n",
       "std         48567.99\n",
       "min             1.00\n",
       "1%              3.00\n",
       "10%            42.00\n",
       "50%          2898.00\n",
       "90%         15112.00\n",
       "99%         90083.00\n",
       "max      80411672.00\n",
       "Name: total_dur, dtype: float64"
      ]
     },
     "execution_count": 33,
     "metadata": {},
     "output_type": "execute_result"
    }
   ],
   "source": [
    "interactions['total_dur'].describe(percentiles=[.01,.1,.5,.9,.99]).round(2)"
   ]
  },
  {
   "cell_type": "code",
   "execution_count": 35,
   "metadata": {},
   "outputs": [
    {
     "data": {
      "image/png": "[encoded data removed]",
      "text/plain": [
       "<Figure size 432x288 with 1 Axes>"
      ]
     },
     "metadata": {
      "needs_background": "light"
     },
     "output_type": "display_data"
    }
   ],
   "source": [
    "(\n",
    "    interactions[Columns.Datetime].dt.isocalendar().week\n",
    "    .value_counts(sort=False)\n",
    "    .sort_index()\n",
    "    .plot(grid=True, title='Количество interactions по неделям')\n",
    ");"
   ]
  },
  {
   "cell_type": "code",
   "execution_count": 36,
   "metadata": {},
   "outputs": [
    {
     "data": {
      "image/png": "[encoded data removed]",
      "text/plain": [
       "<Figure size 432x288 with 1 Axes>"
      ]
     },
     "metadata": {
      "needs_background": "light"
     },
     "output_type": "display_data"
    }
   ],
   "source": [
    "(\n",
    "    interactions[Columns.Datetime].dt.to_period('M')\n",
    "    .value_counts(sort=False)\n",
    "    .sort_index()\n",
    "    .plot(grid=True, title='Количество interactions по месяцам')\n",
    ");"
   ]
  },
  {
   "cell_type": "code",
   "execution_count": 37,
   "metadata": {},
   "outputs": [
    {
     "data": {
      "text/plain": [
       "490982"
      ]
     },
     "execution_count": 37,
     "metadata": {},
     "output_type": "execute_result"
    }
   ],
   "source": [
    "(interactions[Columns.Datetime] >= max_date - pd.Timedelta(days=7)).sum()"
   ]
  },
  {
   "cell_type": "code",
   "execution_count": 38,
   "metadata": {},
   "outputs": [
    {
     "data": {
      "text/plain": [
       "count    5475423.0\n",
       "mean          46.0\n",
       "std           42.0\n",
       "min            0.0\n",
       "25%            4.0\n",
       "50%           32.0\n",
       "75%          100.0\n",
       "max          100.0\n",
       "Name: watched_pct, dtype: float64"
      ]
     },
     "execution_count": 38,
     "metadata": {},
     "output_type": "execute_result"
    }
   ],
   "source": [
    "interactions['watched_pct'].describe().round()"
   ]
  },
  {
   "cell_type": "code",
   "execution_count": 40,
   "metadata": {},
   "outputs": [
    {
     "data": {
      "image/png": "[encoded data removed]",
      "text/plain": [
       "<Figure size 432x288 with 1 Axes>"
      ]
     },
     "metadata": {
      "needs_background": "light"
     },
     "output_type": "display_data"
    }
   ],
   "source": [
    "interactions['watched_pct'].hist(bins=40);"
   ]
  },
  {
   "cell_type": "code",
   "execution_count": 41,
   "metadata": {},
   "outputs": [],
   "source": [
    "interactions[Columns.Weight] = np.where(interactions['watched_pct'] > 15, 3, 1)"
   ]
  },
  {
   "cell_type": "code",
   "execution_count": 42,
   "metadata": {},
   "outputs": [
    {
     "data": {
      "text/plain": [
       "3    0.591957\n",
       "1    0.408043\n",
       "Name: weight, dtype: float64"
      ]
     },
     "execution_count": 42,
     "metadata": {},
     "output_type": "execute_result"
    }
   ],
   "source": [
    "interactions[Columns.Weight].value_counts(normalize=True)"
   ]
  },
  {
   "cell_type": "code",
   "execution_count": 43,
   "metadata": {},
   "outputs": [
    {
     "name": "stdout",
     "output_type": "stream",
     "text": [
      "train: (4985269, 6)\n",
      "test: (490982, 6)\n"
     ]
    }
   ],
   "source": [
    "train = interactions[interactions[Columns.Datetime] < max_date - pd.Timedelta(days=7)].copy()\n",
    "test = interactions[interactions[Columns.Datetime] >= max_date - pd.Timedelta(days=7)].copy()\n",
    "\n",
    "print(f\"train: {train.shape}\")\n",
    "print(f\"test: {test.shape}\")"
   ]
  },
  {
   "cell_type": "code",
   "execution_count": 44,
   "metadata": {},
   "outputs": [],
   "source": [
    "train.drop(train.query(\"total_dur < 300\").index, inplace=True)"
   ]
  },
  {
   "cell_type": "code",
   "execution_count": 45,
   "metadata": {},
   "outputs": [],
   "source": [
    "# отфильтруем холодных пользователей из теста\n",
    "cold_users = set(test[Columns.User]) - set(train[Columns.User])"
   ]
  },
  {
   "cell_type": "code",
   "execution_count": 46,
   "metadata": {},
   "outputs": [],
   "source": [
    "test.drop(test[test[Columns.User].isin(cold_users)].index, inplace=True)"
   ]
  },
  {
   "cell_type": "markdown",
   "metadata": {},
   "source": [
    "# MODELS"
   ]
  },
  {
   "cell_type": "code",
   "execution_count": 47,
   "metadata": {},
   "outputs": [],
   "source": [
    "K_RECOS = 10\n",
    "RANDOM_STATE = 42\n",
    "NUM_THREADS = 16\n",
    "N_FACTORS = (32, 64, 128, 160)\n",
    "ITERATIONS = (15, 20)"
   ]
  },
  {
   "cell_type": "code",
   "execution_count": 48,
   "metadata": {},
   "outputs": [],
   "source": [
    "metrics_name = {\n",
    "    'Precision': Precision,\n",
    "    'Recall': Recall,\n",
    "    'MAP': MAP,\n",
    "}\n",
    "\n",
    "metrics = {}\n",
    "for metric_name, metric in metrics_name.items():\n",
    "    for k in range(1, 11):\n",
    "        metrics[f'{metric_name}@{k}'] = metric(k=k)"
   ]
  },
  {
   "cell_type": "code",
   "execution_count": 49,
   "metadata": {},
   "outputs": [],
   "source": [
    "dataset = Dataset.construct(\n",
    "        interactions_df=train\n",
    "    )"
   ]
  },
  {
   "cell_type": "code",
   "execution_count": 50,
   "metadata": {},
   "outputs": [
    {
     "name": "stdout",
     "output_type": "stream",
     "text": [
      "MAP@10(15_logistic_0.91_0.05) = 0.07402269682912495\n",
      "MAP@10(15_logistic_0.91_0.005) = 0.07402269682912495\n",
      "MAP@10(15_logistic_0.92_0.05) = 0.07402269682912495\n",
      "MAP@10(15_logistic_0.92_0.005) = 0.07402269682912495\n",
      "MAP@10(15_logistic_0.93_0.05) = 0.0740218749172061\n",
      "MAP@10(15_logistic_0.93_0.005) = 0.0740218749172061\n",
      "MAP@10(15_bpr_0.91_0.05) = 0.002291666030057197\n",
      "MAP@10(15_bpr_0.91_0.005) = 0.002291666030057197\n",
      "MAP@10(15_bpr_0.92_0.05) = 0.003915245243147005\n",
      "MAP@10(15_bpr_0.92_0.005) = 0.003915245243147005\n",
      "MAP@10(15_bpr_0.93_0.05) = 0.003471645467915098\n",
      "MAP@10(15_bpr_0.93_0.005) = 0.003471645467915098\n",
      "MAP@10(15_warp_0.91_0.05) = 0.06013888203476336\n",
      "MAP@10(15_warp_0.91_0.005) = 0.06013888203476336\n",
      "MAP@10(15_warp_0.92_0.05) = 0.05989028973791324\n",
      "MAP@10(15_warp_0.92_0.005) = 0.05989028973791324\n",
      "MAP@10(15_warp_0.93_0.05) = 0.05823024577137994\n",
      "MAP@10(15_warp_0.93_0.005) = 0.05823024577137994\n",
      "MAP@10(16_logistic_0.91_0.05) = 0.07401729487606827\n",
      "MAP@10(16_logistic_0.91_0.005) = 0.07401729487606827\n",
      "MAP@10(16_logistic_0.92_0.05) = 0.07401729487606827\n",
      "MAP@10(16_logistic_0.92_0.005) = 0.07401729487606827\n",
      "MAP@10(16_logistic_0.93_0.05) = 0.07401729487606827\n",
      "MAP@10(16_logistic_0.93_0.005) = 0.07401729487606827\n",
      "MAP@10(16_bpr_0.91_0.05) = 0.0020045459622171006\n",
      "MAP@10(16_bpr_0.91_0.005) = 0.0020045459622171006\n",
      "MAP@10(16_bpr_0.92_0.05) = 0.004457044372017568\n",
      "MAP@10(16_bpr_0.92_0.005) = 0.004457044372017568\n",
      "MAP@10(16_bpr_0.93_0.05) = 0.005184438582882743\n",
      "MAP@10(16_bpr_0.93_0.005) = 0.005184438582882743\n",
      "MAP@10(16_warp_0.91_0.05) = 0.05493926897501632\n",
      "MAP@10(16_warp_0.91_0.005) = 0.05493926897501632\n",
      "MAP@10(16_warp_0.92_0.05) = 0.06102777631215123\n",
      "MAP@10(16_warp_0.92_0.005) = 0.06102777631215123\n",
      "MAP@10(16_warp_0.93_0.05) = 0.06169993042453833\n",
      "MAP@10(16_warp_0.93_0.005) = 0.06169993042453833\n",
      "MAP@10(17_logistic_0.91_0.05) = 0.07402339276758747\n",
      "MAP@10(17_logistic_0.91_0.005) = 0.07402339276758747\n",
      "MAP@10(17_logistic_0.92_0.05) = 0.07402344545424894\n",
      "MAP@10(17_logistic_0.92_0.005) = 0.07402344545424894\n",
      "MAP@10(17_logistic_0.93_0.05) = 0.07402344545424894\n",
      "MAP@10(17_logistic_0.93_0.005) = 0.07402344545424894\n",
      "MAP@10(17_bpr_0.91_0.05) = 0.001132049925169347\n",
      "MAP@10(17_bpr_0.91_0.005) = 0.001132049925169347\n",
      "MAP@10(17_bpr_0.92_0.05) = 0.0014677078111134648\n",
      "MAP@10(17_bpr_0.92_0.005) = 0.0014677078111134648\n",
      "MAP@10(17_bpr_0.93_0.05) = 0.00409102697323932\n",
      "MAP@10(17_bpr_0.93_0.005) = 0.00409102697323932\n",
      "MAP@10(17_warp_0.91_0.05) = 0.05999431387628991\n",
      "MAP@10(17_warp_0.91_0.005) = 0.05999431387628991\n",
      "MAP@10(17_warp_0.92_0.05) = 0.05232827180156169\n",
      "MAP@10(17_warp_0.92_0.005) = 0.05232827180156169\n",
      "MAP@10(17_warp_0.93_0.05) = 0.05866137067174194\n",
      "MAP@10(17_warp_0.93_0.005) = 0.05866137067174194\n"
     ]
    }
   ],
   "source": [
    "list_metrics_combined = {}\n",
    "\n",
    "for components in [15,16,17]:\n",
    "    for losses in ['logistic', 'bpr', 'warp']: # реализуем разные лоссы\n",
    "        for rho in [0.91,0.92,0.93]:\n",
    "            for lr in [0.05,0.005]:\n",
    "                epsilon = 3\n",
    "\n",
    "                lightfm = LightFMWrapperModel(\n",
    "                        model = LightFM(\n",
    "                            no_components = components,\n",
    "                            learning_schedule = 'adadelta',\n",
    "                            loss = losses,\n",
    "                            rho = rho,\n",
    "                            epsilon = epsilon,\n",
    "                            learning_rate = lr,\n",
    "                            random_state = RANDOM_STATE\n",
    "                        )\n",
    "                    )\n",
    "\n",
    "                lightfm.fit(dataset)\n",
    "\n",
    "                recs = lightfm.recommend(\n",
    "                    users=test[Columns.User].unique(),\n",
    "                    dataset=dataset,\n",
    "                    k=K_RECOS,\n",
    "                    filter_viewed=True,\n",
    "                )\n",
    "\n",
    "                metric_values = calc_metrics(metrics, recs, test, train)\n",
    "\n",
    "                list_metrics_combined[f\"{components}_{losses}_{rho}_{lr}\"] = metric_values\n",
    "                print(f\"MAP@10({components}_{losses}_{rho}_{lr}) = {metric_values['MAP@10']}\")\n",
    "\n",
    "                "
   ]
  },
  {
   "cell_type": "code",
   "execution_count": 51,
   "metadata": {},
   "outputs": [
    {
     "name": "stdout",
     "output_type": "stream",
     "text": [
      "15_logistic_0.91_0.05 0.07402269682912495\n",
      "15_logistic_0.91_0.005 0.07402269682912495\n",
      "15_logistic_0.92_0.05 0.07402269682912495\n",
      "15_logistic_0.92_0.005 0.07402269682912495\n",
      "15_logistic_0.93_0.05 0.0740218749172061\n",
      "15_logistic_0.93_0.005 0.0740218749172061\n",
      "15_bpr_0.91_0.05 0.002291666030057197\n",
      "15_bpr_0.91_0.005 0.002291666030057197\n",
      "15_bpr_0.92_0.05 0.003915245243147005\n",
      "15_bpr_0.92_0.005 0.003915245243147005\n",
      "15_bpr_0.93_0.05 0.003471645467915098\n",
      "15_bpr_0.93_0.005 0.003471645467915098\n",
      "15_warp_0.91_0.05 0.06013888203476336\n",
      "15_warp_0.91_0.005 0.06013888203476336\n",
      "15_warp_0.92_0.05 0.05989028973791324\n",
      "15_warp_0.92_0.005 0.05989028973791324\n",
      "15_warp_0.93_0.05 0.05823024577137994\n",
      "15_warp_0.93_0.005 0.05823024577137994\n",
      "16_logistic_0.91_0.05 0.07401729487606827\n",
      "16_logistic_0.91_0.005 0.07401729487606827\n",
      "16_logistic_0.92_0.05 0.07401729487606827\n",
      "16_logistic_0.92_0.005 0.07401729487606827\n",
      "16_logistic_0.93_0.05 0.07401729487606827\n",
      "16_logistic_0.93_0.005 0.07401729487606827\n",
      "16_bpr_0.91_0.05 0.0020045459622171006\n",
      "16_bpr_0.91_0.005 0.0020045459622171006\n",
      "16_bpr_0.92_0.05 0.004457044372017568\n",
      "16_bpr_0.92_0.005 0.004457044372017568\n",
      "16_bpr_0.93_0.05 0.005184438582882743\n",
      "16_bpr_0.93_0.005 0.005184438582882743\n",
      "16_warp_0.91_0.05 0.05493926897501632\n",
      "16_warp_0.91_0.005 0.05493926897501632\n",
      "16_warp_0.92_0.05 0.06102777631215123\n",
      "16_warp_0.92_0.005 0.06102777631215123\n",
      "16_warp_0.93_0.05 0.06169993042453833\n",
      "16_warp_0.93_0.005 0.06169993042453833\n",
      "17_logistic_0.91_0.05 0.07402339276758747\n",
      "17_logistic_0.91_0.005 0.07402339276758747\n",
      "17_logistic_0.92_0.05 0.07402344545424894\n",
      "17_logistic_0.92_0.005 0.07402344545424894\n",
      "17_logistic_0.93_0.05 0.07402344545424894\n",
      "17_logistic_0.93_0.005 0.07402344545424894\n",
      "17_bpr_0.91_0.05 0.001132049925169347\n",
      "17_bpr_0.91_0.005 0.001132049925169347\n",
      "17_bpr_0.92_0.05 0.0014677078111134648\n",
      "17_bpr_0.92_0.005 0.0014677078111134648\n",
      "17_bpr_0.93_0.05 0.00409102697323932\n",
      "17_bpr_0.93_0.005 0.00409102697323932\n",
      "17_warp_0.91_0.05 0.05999431387628991\n",
      "17_warp_0.91_0.005 0.05999431387628991\n",
      "17_warp_0.92_0.05 0.05232827180156169\n",
      "17_warp_0.92_0.005 0.05232827180156169\n",
      "17_warp_0.93_0.05 0.05866137067174194\n",
      "17_warp_0.93_0.005 0.05866137067174194\n"
     ]
    }
   ],
   "source": [
    "for k,v in list_metrics_combined.items():\n",
    "    print(k,v['MAP@10'])"
   ]
  },
  {
   "attachments": {},
   "cell_type": "markdown",
   "metadata": {},
   "source": [
    "#### Вывод - модель с самыми лучшими гиперпарамметрами -  \"17_logistic_0.93_0.05\", её мы и будем использовать "
   ]
  },
  {
   "cell_type": "code",
   "execution_count": 52,
   "metadata": {},
   "outputs": [],
   "source": [
    "best_components = 17\n",
    "best_loss = 'logistic'\n",
    "best_rho = 0.93\n",
    "best_lr = 0.05"
   ]
  },
  {
   "cell_type": "code",
   "execution_count": 53,
   "metadata": {},
   "outputs": [],
   "source": [
    "epsilon = 3\n",
    "\n",
    "lightfm = LightFMWrapperModel(\n",
    "        model = LightFM(\n",
    "            no_components = best_components,\n",
    "            learning_schedule = 'adadelta',\n",
    "            loss = best_loss,\n",
    "            rho = best_rho,\n",
    "            epsilon = epsilon,\n",
    "            learning_rate = best_lr,\n",
    "            random_state = RANDOM_STATE\n",
    "        )\n",
    "    )\n",
    "\n",
    "lightfm.fit(dataset)\n",
    "\n",
    "recs = lightfm.recommend(\n",
    "    users=test[Columns.User].unique(),\n",
    "    dataset=dataset,\n",
    "    k=K_RECOS,\n",
    "    filter_viewed=True,\n",
    ")\n",
    "\n",
    "metric_values = calc_metrics(metrics, recs, test, train)"
   ]
  },
  {
   "cell_type": "code",
   "execution_count": 54,
   "metadata": {},
   "outputs": [
    {
     "data": {
      "text/html": [
       "<div>\n",
       "<style scoped>\n",
       "    .dataframe tbody tr th:only-of-type {\n",
       "        vertical-align: middle;\n",
       "    }\n",
       "\n",
       "    .dataframe tbody tr th {\n",
       "        vertical-align: top;\n",
       "    }\n",
       "\n",
       "    .dataframe thead th {\n",
       "        text-align: right;\n",
       "    }\n",
       "</style>\n",
       "<table border=\"1\" class=\"dataframe\">\n",
       "  <thead>\n",
       "    <tr style=\"text-align: right;\">\n",
       "      <th></th>\n",
       "      <th>user_id</th>\n",
       "      <th>item_id</th>\n",
       "      <th>score</th>\n",
       "      <th>rank</th>\n",
       "    </tr>\n",
       "  </thead>\n",
       "  <tbody>\n",
       "    <tr>\n",
       "      <th>0</th>\n",
       "      <td>203219</td>\n",
       "      <td>15297</td>\n",
       "      <td>12.923522</td>\n",
       "      <td>1</td>\n",
       "    </tr>\n",
       "    <tr>\n",
       "      <th>1</th>\n",
       "      <td>203219</td>\n",
       "      <td>10440</td>\n",
       "      <td>12.890732</td>\n",
       "      <td>2</td>\n",
       "    </tr>\n",
       "    <tr>\n",
       "      <th>2</th>\n",
       "      <td>203219</td>\n",
       "      <td>13865</td>\n",
       "      <td>12.462664</td>\n",
       "      <td>3</td>\n",
       "    </tr>\n",
       "    <tr>\n",
       "      <th>3</th>\n",
       "      <td>203219</td>\n",
       "      <td>9728</td>\n",
       "      <td>12.388331</td>\n",
       "      <td>4</td>\n",
       "    </tr>\n",
       "    <tr>\n",
       "      <th>4</th>\n",
       "      <td>203219</td>\n",
       "      <td>3734</td>\n",
       "      <td>12.016802</td>\n",
       "      <td>5</td>\n",
       "    </tr>\n",
       "    <tr>\n",
       "      <th>...</th>\n",
       "      <td>...</td>\n",
       "      <td>...</td>\n",
       "      <td>...</td>\n",
       "      <td>...</td>\n",
       "    </tr>\n",
       "    <tr>\n",
       "      <th>1129765</th>\n",
       "      <td>857162</td>\n",
       "      <td>4151</td>\n",
       "      <td>12.006565</td>\n",
       "      <td>6</td>\n",
       "    </tr>\n",
       "    <tr>\n",
       "      <th>1129766</th>\n",
       "      <td>857162</td>\n",
       "      <td>142</td>\n",
       "      <td>11.435051</td>\n",
       "      <td>7</td>\n",
       "    </tr>\n",
       "    <tr>\n",
       "      <th>1129767</th>\n",
       "      <td>857162</td>\n",
       "      <td>2657</td>\n",
       "      <td>11.382971</td>\n",
       "      <td>8</td>\n",
       "    </tr>\n",
       "    <tr>\n",
       "      <th>1129768</th>\n",
       "      <td>857162</td>\n",
       "      <td>6809</td>\n",
       "      <td>11.271886</td>\n",
       "      <td>9</td>\n",
       "    </tr>\n",
       "    <tr>\n",
       "      <th>1129769</th>\n",
       "      <td>857162</td>\n",
       "      <td>8636</td>\n",
       "      <td>11.164405</td>\n",
       "      <td>10</td>\n",
       "    </tr>\n",
       "  </tbody>\n",
       "</table>\n",
       "<p>1129770 rows × 4 columns</p>\n",
       "</div>"
      ],
      "text/plain": [
       "         user_id  item_id      score  rank\n",
       "0         203219    15297  12.923522     1\n",
       "1         203219    10440  12.890732     2\n",
       "2         203219    13865  12.462664     3\n",
       "3         203219     9728  12.388331     4\n",
       "4         203219     3734  12.016802     5\n",
       "...          ...      ...        ...   ...\n",
       "1129765   857162     4151  12.006565     6\n",
       "1129766   857162      142  11.435051     7\n",
       "1129767   857162     2657  11.382971     8\n",
       "1129768   857162     6809  11.271886     9\n",
       "1129769   857162     8636  11.164405    10\n",
       "\n",
       "[1129770 rows x 4 columns]"
      ]
     },
     "execution_count": 54,
     "metadata": {},
     "output_type": "execute_result"
    }
   ],
   "source": [
    "recs"
   ]
  },
  {
   "cell_type": "code",
   "execution_count": 55,
   "metadata": {},
   "outputs": [],
   "source": [
    "# Save\n",
    "recs.to_csv('/home/iuliiasolomennikova/!!!RecSysService/notebooks/offline_recommend_df/lightfm', encoding='utf-8', index=False)"
   ]
  },
  {
   "cell_type": "code",
   "execution_count": 1,
   "metadata": {},
   "outputs": [],
   "source": [
    "def create_dates(start, end, n=15):\n",
    "    ndays = (end - start).days + 1\n",
    "    range_ = np.random.randint(0, ndays, n)\n",
    "    res_dates = pd.to_timedelta(range_, unit='D') + start\n",
    "    return res_dates"
   ]
  },
  {
   "attachments": {},
   "cell_type": "markdown",
   "metadata": {},
   "source": [
    "# TEST USERS - AVATARS"
   ]
  },
  {
   "cell_type": "code",
   "execution_count": 75,
   "metadata": {},
   "outputs": [],
   "source": [
    "N_watched = 15\n",
    "\n",
    "# User, who watch only movies for childdrens\n",
    "random_items = np.random.choice(\n",
    "    np.array(items[items.for_kids == 1].item_id),\n",
    "    N_watched,\n",
    "    replace=False,\n",
    ")\n",
    "user_id = np.full(\n",
    "  shape=N_watched,\n",
    "  fill_value=-1,\n",
    "  dtype=np.int\n",
    ")\n",
    "last_watch_dt = create_dates(pd.to_datetime(interactions[Columns.Datetime].min()), pd.to_datetime((interactions[Columns.Datetime].max())), N_watched)\n",
    "total_dur = np.random.uniform(7000, 15000, size=N_watched).astype('int')\n",
    "watched_pct = np.random.uniform(30, 100, size=N_watched).astype('int').astype('float64')\n",
    "weight = np.full(\n",
    "  shape=N_watched,\n",
    "  fill_value=3,\n",
    "  dtype=np.int\n",
    ")\n",
    "test_user_1 = pd.DataFrame(\n",
    "    {'user_id': user_id,\n",
    "     'item_id': random_items,\n",
    "     'last_watch_dt': last_watch_dt,\n",
    "     'total_dur': total_dur,\n",
    "     'watched_pct': watched_pct,\n",
    "     'weight': weight,\n",
    "    })\n",
    "\n",
    "# User, who watch only one genre's movies \"боевики\"\n",
    "random_items = np.random.choice(\n",
    "    np.array(items[Columns.Item][items['genres'].apply(lambda x: 'боевики' in x)].unique()),\n",
    "    N_watched,\n",
    "    replace=False,\n",
    ")\n",
    "user_id = np.full(\n",
    "  shape=N_watched,\n",
    "  fill_value=-2,\n",
    "  dtype=np.int\n",
    ")\n",
    "last_watch_dt = create_dates(pd.to_datetime(interactions[Columns.Datetime].min()), pd.to_datetime((interactions[Columns.Datetime].max())), N_watched)\n",
    "watched_pct = np.random.uniform(30, 100, size=N_watched).astype('int').astype('float64')\n",
    "weight = np.full(\n",
    "  shape=N_watched,\n",
    "  fill_value=3,\n",
    "  dtype=np.int\n",
    ")\n",
    "test_user_2 = pd.DataFrame(\n",
    "    {'user_id': user_id,\n",
    "     'item_id': random_items,\n",
    "     'last_watch_dt': last_watch_dt,\n",
    "     'total_dur': total_dur,\n",
    "     'watched_pct': watched_pct,\n",
    "     'weight': weight,\n",
    "    })\n",
    "\n",
    "# User, who watch only russian movies with age rating > 18\n",
    "random_items = np.random.choice(\n",
    "    np.array(items[(items.countries == 'Россия') & (items.age_rating == 18.0)].item_id.unique()),\n",
    "    N_watched,\n",
    "    replace=False,\n",
    ")\n",
    "user_id = np.full(\n",
    "  shape=N_watched,\n",
    "  fill_value=-3,\n",
    "  dtype=np.int\n",
    ")\n",
    "last_watch_dt = create_dates(pd.to_datetime(interactions[Columns.Datetime].min()), pd.to_datetime((interactions[Columns.Datetime].max())), N_watched)\n",
    "watched_pct = np.random.uniform(30, 100, size=N_watched).astype('int').astype('float64')\n",
    "weight = np.full(\n",
    "  shape=N_watched,\n",
    "  fill_value=3,\n",
    "  dtype=np.int\n",
    ")\n",
    "test_user_3 = pd.DataFrame(\n",
    "    {'user_id': user_id,\n",
    "     'item_id': random_items,\n",
    "     'last_watch_dt': last_watch_dt,\n",
    "     'total_dur': total_dur,\n",
    "     'watched_pct': watched_pct,\n",
    "     'weight': weight,\n",
    "    })"
   ]
  },
  {
   "cell_type": "code",
   "execution_count": 76,
   "metadata": {},
   "outputs": [],
   "source": [
    "epsilon = 3\n",
    "\n",
    "dataset = Dataset.construct(\n",
    "    interactions_df=pd.concat([train, test_user_1, test_user_2, test_user_3])\n",
    ")\n",
    "\n",
    "lightfm = LightFMWrapperModel(\n",
    "        model = LightFM(\n",
    "            no_components = best_components,\n",
    "            learning_schedule = 'adadelta',\n",
    "            loss = best_loss,\n",
    "            rho = best_rho,\n",
    "            epsilon = epsilon,\n",
    "            learning_rate = best_lr,\n",
    "            random_state = RANDOM_STATE\n",
    "        )\n",
    "    )\n",
    "\n",
    "lightfm.fit(dataset)\n",
    "\n",
    "recs = lightfm.recommend(\n",
    "    users=np.append(test[Columns.User].unique(), np.array([-1, -2, -3])),\n",
    "    dataset=dataset,\n",
    "    k=K_RECOS,\n",
    "    filter_viewed=True,\n",
    ")\n",
    "\n",
    "metric_values = calc_metrics(metrics, recs, test, train)"
   ]
  },
  {
   "cell_type": "code",
   "execution_count": 78,
   "metadata": {},
   "outputs": [
    {
     "data": {
      "text/html": [
       "<div>\n",
       "<style scoped>\n",
       "    .dataframe tbody tr th:only-of-type {\n",
       "        vertical-align: middle;\n",
       "    }\n",
       "\n",
       "    .dataframe tbody tr th {\n",
       "        vertical-align: top;\n",
       "    }\n",
       "\n",
       "    .dataframe thead th {\n",
       "        text-align: right;\n",
       "    }\n",
       "</style>\n",
       "<table border=\"1\" class=\"dataframe\">\n",
       "  <thead>\n",
       "    <tr style=\"text-align: right;\">\n",
       "      <th></th>\n",
       "      <th>item_id</th>\n",
       "      <th>content_type</th>\n",
       "      <th>title</th>\n",
       "      <th>title_orig</th>\n",
       "      <th>release_year</th>\n",
       "      <th>genres</th>\n",
       "      <th>countries</th>\n",
       "      <th>for_kids</th>\n",
       "      <th>age_rating</th>\n",
       "      <th>studios</th>\n",
       "      <th>directors</th>\n",
       "      <th>actors</th>\n",
       "      <th>description</th>\n",
       "      <th>keywords</th>\n",
       "      <th>year_bin</th>\n",
       "    </tr>\n",
       "  </thead>\n",
       "  <tbody>\n",
       "    <tr>\n",
       "      <th>767</th>\n",
       "      <td>15297</td>\n",
       "      <td>series</td>\n",
       "      <td>Клиника счастья</td>\n",
       "      <td>Klinika schast'ya</td>\n",
       "      <td>2021.0</td>\n",
       "      <td>драмы, мелодрамы</td>\n",
       "      <td>Россия</td>\n",
       "      <td>NaN</td>\n",
       "      <td>18.0</td>\n",
       "      <td>NaN</td>\n",
       "      <td>Александр Кириенко</td>\n",
       "      <td>Дарья Мороз, Анатолий Белый, Данил Акутин, Мар...</td>\n",
       "      <td>Успешный сексолог Алена уверена, что нашла фор...</td>\n",
       "      <td>Клиника счастья, Клиника, Счастье, Клиника сча...</td>\n",
       "      <td>(2020.0, 2025.0]</td>\n",
       "    </tr>\n",
       "    <tr>\n",
       "      <th>1882</th>\n",
       "      <td>10440</td>\n",
       "      <td>series</td>\n",
       "      <td>Хрустальный</td>\n",
       "      <td>Khrustal'nyy</td>\n",
       "      <td>2021.0</td>\n",
       "      <td>триллеры, детективы</td>\n",
       "      <td>Россия</td>\n",
       "      <td>NaN</td>\n",
       "      <td>18.0</td>\n",
       "      <td>NaN</td>\n",
       "      <td>Душан Глигоров</td>\n",
       "      <td>Антон Васильев, Николай Шрайбер, Екатерина Оль...</td>\n",
       "      <td>Сергей Смирнов — один из лучших «охотников на ...</td>\n",
       "      <td>хруст, хрусталь, хруста, хрус, полицейский, пе...</td>\n",
       "      <td>(2020.0, 2025.0]</td>\n",
       "    </tr>\n",
       "    <tr>\n",
       "      <th>3875</th>\n",
       "      <td>6809</td>\n",
       "      <td>film</td>\n",
       "      <td>Дуров</td>\n",
       "      <td>NaN</td>\n",
       "      <td>2021.0</td>\n",
       "      <td>документальное</td>\n",
       "      <td>Россия</td>\n",
       "      <td>NaN</td>\n",
       "      <td>16.0</td>\n",
       "      <td>NaN</td>\n",
       "      <td>Родион Чепель</td>\n",
       "      <td>NaN</td>\n",
       "      <td>Уникальная история о лидере нового поколения, ...</td>\n",
       "      <td>Компьютер, Монитор, Гений, Интервью, Предприни...</td>\n",
       "      <td>(2020.0, 2025.0]</td>\n",
       "    </tr>\n",
       "    <tr>\n",
       "      <th>6346</th>\n",
       "      <td>9728</td>\n",
       "      <td>film</td>\n",
       "      <td>Гнев человеческий</td>\n",
       "      <td>Wrath of Man</td>\n",
       "      <td>2021.0</td>\n",
       "      <td>боевики, триллеры</td>\n",
       "      <td>Великобритания, США</td>\n",
       "      <td>NaN</td>\n",
       "      <td>18.0</td>\n",
       "      <td>NaN</td>\n",
       "      <td>Гай Ричи</td>\n",
       "      <td>Джейсон Стэйтем, Холт МакКэллани, Джеффри Доно...</td>\n",
       "      <td>Грузовики лос-анджелесской инкассаторской комп...</td>\n",
       "      <td>ограбление, криминальный авторитет, месть, пер...</td>\n",
       "      <td>(2020.0, 2025.0]</td>\n",
       "    </tr>\n",
       "    <tr>\n",
       "      <th>6501</th>\n",
       "      <td>13865</td>\n",
       "      <td>film</td>\n",
       "      <td>Девятаев</td>\n",
       "      <td>V2. Escape from Hell</td>\n",
       "      <td>2021.0</td>\n",
       "      <td>драмы, военные, приключения</td>\n",
       "      <td>Россия</td>\n",
       "      <td>NaN</td>\n",
       "      <td>12.0</td>\n",
       "      <td>NaN</td>\n",
       "      <td>Тимур Бекмамбетов</td>\n",
       "      <td>Павел Прилучный, Павел Чинарёв, Тимофей Трибун...</td>\n",
       "      <td>Военно-исторический блокбастер от режиссёров Т...</td>\n",
       "      <td>Девятаев, Девятаева, Девят, Девя, Девята, Девя...</td>\n",
       "      <td>(2020.0, 2025.0]</td>\n",
       "    </tr>\n",
       "    <tr>\n",
       "      <th>6689</th>\n",
       "      <td>4151</td>\n",
       "      <td>series</td>\n",
       "      <td>Секреты семейной жизни</td>\n",
       "      <td>NaN</td>\n",
       "      <td>2021.0</td>\n",
       "      <td>комедии</td>\n",
       "      <td>Россия</td>\n",
       "      <td>NaN</td>\n",
       "      <td>18.0</td>\n",
       "      <td>NaN</td>\n",
       "      <td>Шота Гамисония</td>\n",
       "      <td>Петр Скворцов, Алена Михайлова, Федор Лавров, ...</td>\n",
       "      <td>У Никиты и Полины всё начиналось прекрасно: об...</td>\n",
       "      <td>брызги крови, кровь, жестокое обращение с живо...</td>\n",
       "      <td>(2020.0, 2025.0]</td>\n",
       "    </tr>\n",
       "    <tr>\n",
       "      <th>7486</th>\n",
       "      <td>8636</td>\n",
       "      <td>film</td>\n",
       "      <td>Белый снег</td>\n",
       "      <td>Belyy sneg</td>\n",
       "      <td>2021.0</td>\n",
       "      <td>драмы, спорт</td>\n",
       "      <td>Россия</td>\n",
       "      <td>NaN</td>\n",
       "      <td>6.0</td>\n",
       "      <td>NaN</td>\n",
       "      <td>Николай Хомерики</td>\n",
       "      <td>Ольга Лерман, Федор Добронравов, Надежда Марки...</td>\n",
       "      <td>Отечественная спортивная драма про лыжницу и о...</td>\n",
       "      <td>биография, занятие спортом, байопик, чемпионат...</td>\n",
       "      <td>(2020.0, 2025.0]</td>\n",
       "    </tr>\n",
       "    <tr>\n",
       "      <th>12050</th>\n",
       "      <td>3734</td>\n",
       "      <td>film</td>\n",
       "      <td>Прабабушка легкого поведения</td>\n",
       "      <td>Prababushka lyogkogo povedeniya</td>\n",
       "      <td>2021.0</td>\n",
       "      <td>комедии</td>\n",
       "      <td>Россия</td>\n",
       "      <td>NaN</td>\n",
       "      <td>16.0</td>\n",
       "      <td>NaN</td>\n",
       "      <td>Марюс Вайсберг</td>\n",
       "      <td>Александр Ревва, Глюкоза, Дмитрий Нагиев, Миха...</td>\n",
       "      <td>1980 год, вся страна следит за событиями моско...</td>\n",
       "      <td>, 2021, россия, прабабушка, легкого, поведения</td>\n",
       "      <td>(2020.0, 2025.0]</td>\n",
       "    </tr>\n",
       "    <tr>\n",
       "      <th>13615</th>\n",
       "      <td>2657</td>\n",
       "      <td>series</td>\n",
       "      <td>Подслушано</td>\n",
       "      <td>Podslushano</td>\n",
       "      <td>2021.0</td>\n",
       "      <td>драмы, триллеры</td>\n",
       "      <td>Россия</td>\n",
       "      <td>NaN</td>\n",
       "      <td>16.0</td>\n",
       "      <td>NaN</td>\n",
       "      <td>Илья Куликов</td>\n",
       "      <td>Александр Hовиков, Валентина Ляпина, Никита Па...</td>\n",
       "      <td>Смотри:- как кино- как сериалПодростковый псих...</td>\n",
       "      <td>подслушано, подслушано в контакте, социальная ...</td>\n",
       "      <td>(2020.0, 2025.0]</td>\n",
       "    </tr>\n",
       "    <tr>\n",
       "      <th>15234</th>\n",
       "      <td>142</td>\n",
       "      <td>film</td>\n",
       "      <td>Маша</td>\n",
       "      <td>Masha</td>\n",
       "      <td>2020.0</td>\n",
       "      <td>драмы, триллеры</td>\n",
       "      <td>Россия</td>\n",
       "      <td>NaN</td>\n",
       "      <td>16.0</td>\n",
       "      <td>NaN</td>\n",
       "      <td>Анастасия Пальчикова</td>\n",
       "      <td>Максим Суханов, Аня Чиповская, Полина Гухман, ...</td>\n",
       "      <td>13-летняя Маша растёт между боксёрским рингом ...</td>\n",
       "      <td>Фильм Маша, Маша фильм 2021, Смотреть фильм Ма...</td>\n",
       "      <td>(2015.0, 2020.0]</td>\n",
       "    </tr>\n",
       "  </tbody>\n",
       "</table>\n",
       "</div>"
      ],
      "text/plain": [
       "       item_id content_type                         title  \\\n",
       "767      15297       series               Клиника счастья   \n",
       "1882     10440       series                   Хрустальный   \n",
       "3875      6809         film                         Дуров   \n",
       "6346      9728         film             Гнев человеческий   \n",
       "6501     13865         film                      Девятаев   \n",
       "6689      4151       series        Секреты семейной жизни   \n",
       "7486      8636         film                    Белый снег   \n",
       "12050     3734         film  Прабабушка легкого поведения   \n",
       "13615     2657       series                    Подслушано   \n",
       "15234      142         film                          Маша   \n",
       "\n",
       "                            title_orig  release_year  \\\n",
       "767                  Klinika schast'ya        2021.0   \n",
       "1882                      Khrustal'nyy        2021.0   \n",
       "3875                               NaN        2021.0   \n",
       "6346                      Wrath of Man        2021.0   \n",
       "6501              V2. Escape from Hell        2021.0   \n",
       "6689                               NaN        2021.0   \n",
       "7486                        Belyy sneg        2021.0   \n",
       "12050  Prababushka lyogkogo povedeniya        2021.0   \n",
       "13615                      Podslushano        2021.0   \n",
       "15234                            Masha        2020.0   \n",
       "\n",
       "                            genres            countries  for_kids  age_rating  \\\n",
       "767               драмы, мелодрамы               Россия       NaN        18.0   \n",
       "1882           триллеры, детективы               Россия       NaN        18.0   \n",
       "3875                документальное               Россия       NaN        16.0   \n",
       "6346             боевики, триллеры  Великобритания, США       NaN        18.0   \n",
       "6501   драмы, военные, приключения               Россия       NaN        12.0   \n",
       "6689                       комедии               Россия       NaN        18.0   \n",
       "7486                  драмы, спорт               Россия       NaN         6.0   \n",
       "12050                      комедии               Россия       NaN        16.0   \n",
       "13615              драмы, триллеры               Россия       NaN        16.0   \n",
       "15234              драмы, триллеры               Россия       NaN        16.0   \n",
       "\n",
       "      studios             directors  \\\n",
       "767       NaN    Александр Кириенко   \n",
       "1882      NaN        Душан Глигоров   \n",
       "3875      NaN         Родион Чепель   \n",
       "6346      NaN              Гай Ричи   \n",
       "6501      NaN     Тимур Бекмамбетов   \n",
       "6689      NaN        Шота Гамисония   \n",
       "7486      NaN      Николай Хомерики   \n",
       "12050     NaN        Марюс Вайсберг   \n",
       "13615     NaN          Илья Куликов   \n",
       "15234     NaN  Анастасия Пальчикова   \n",
       "\n",
       "                                                  actors  \\\n",
       "767    Дарья Мороз, Анатолий Белый, Данил Акутин, Мар...   \n",
       "1882   Антон Васильев, Николай Шрайбер, Екатерина Оль...   \n",
       "3875                                                 NaN   \n",
       "6346   Джейсон Стэйтем, Холт МакКэллани, Джеффри Доно...   \n",
       "6501   Павел Прилучный, Павел Чинарёв, Тимофей Трибун...   \n",
       "6689   Петр Скворцов, Алена Михайлова, Федор Лавров, ...   \n",
       "7486   Ольга Лерман, Федор Добронравов, Надежда Марки...   \n",
       "12050  Александр Ревва, Глюкоза, Дмитрий Нагиев, Миха...   \n",
       "13615  Александр Hовиков, Валентина Ляпина, Никита Па...   \n",
       "15234  Максим Суханов, Аня Чиповская, Полина Гухман, ...   \n",
       "\n",
       "                                             description  \\\n",
       "767    Успешный сексолог Алена уверена, что нашла фор...   \n",
       "1882   Сергей Смирнов — один из лучших «охотников на ...   \n",
       "3875   Уникальная история о лидере нового поколения, ...   \n",
       "6346   Грузовики лос-анджелесской инкассаторской комп...   \n",
       "6501   Военно-исторический блокбастер от режиссёров Т...   \n",
       "6689   У Никиты и Полины всё начиналось прекрасно: об...   \n",
       "7486   Отечественная спортивная драма про лыжницу и о...   \n",
       "12050  1980 год, вся страна следит за событиями моско...   \n",
       "13615  Смотри:- как кино- как сериалПодростковый псих...   \n",
       "15234  13-летняя Маша растёт между боксёрским рингом ...   \n",
       "\n",
       "                                                keywords          year_bin  \n",
       "767    Клиника счастья, Клиника, Счастье, Клиника сча...  (2020.0, 2025.0]  \n",
       "1882   хруст, хрусталь, хруста, хрус, полицейский, пе...  (2020.0, 2025.0]  \n",
       "3875   Компьютер, Монитор, Гений, Интервью, Предприни...  (2020.0, 2025.0]  \n",
       "6346   ограбление, криминальный авторитет, месть, пер...  (2020.0, 2025.0]  \n",
       "6501   Девятаев, Девятаева, Девят, Девя, Девята, Девя...  (2020.0, 2025.0]  \n",
       "6689   брызги крови, кровь, жестокое обращение с живо...  (2020.0, 2025.0]  \n",
       "7486   биография, занятие спортом, байопик, чемпионат...  (2020.0, 2025.0]  \n",
       "12050     , 2021, россия, прабабушка, легкого, поведения  (2020.0, 2025.0]  \n",
       "13615  подслушано, подслушано в контакте, социальная ...  (2020.0, 2025.0]  \n",
       "15234  Фильм Маша, Маша фильм 2021, Смотреть фильм Ма...  (2015.0, 2020.0]  "
      ]
     },
     "execution_count": 78,
     "metadata": {},
     "output_type": "execute_result"
    }
   ],
   "source": [
    "items[items.item_id.isin(recs[recs.user_id == -1].item_id)]"
   ]
  },
  {
   "cell_type": "code",
   "execution_count": 79,
   "metadata": {},
   "outputs": [
    {
     "data": {
      "text/html": [
       "<div>\n",
       "<style scoped>\n",
       "    .dataframe tbody tr th:only-of-type {\n",
       "        vertical-align: middle;\n",
       "    }\n",
       "\n",
       "    .dataframe tbody tr th {\n",
       "        vertical-align: top;\n",
       "    }\n",
       "\n",
       "    .dataframe thead th {\n",
       "        text-align: right;\n",
       "    }\n",
       "</style>\n",
       "<table border=\"1\" class=\"dataframe\">\n",
       "  <thead>\n",
       "    <tr style=\"text-align: right;\">\n",
       "      <th></th>\n",
       "      <th>item_id</th>\n",
       "      <th>content_type</th>\n",
       "      <th>title</th>\n",
       "      <th>title_orig</th>\n",
       "      <th>release_year</th>\n",
       "      <th>genres</th>\n",
       "      <th>countries</th>\n",
       "      <th>for_kids</th>\n",
       "      <th>age_rating</th>\n",
       "      <th>studios</th>\n",
       "      <th>directors</th>\n",
       "      <th>actors</th>\n",
       "      <th>description</th>\n",
       "      <th>keywords</th>\n",
       "      <th>year_bin</th>\n",
       "    </tr>\n",
       "  </thead>\n",
       "  <tbody>\n",
       "    <tr>\n",
       "      <th>767</th>\n",
       "      <td>15297</td>\n",
       "      <td>series</td>\n",
       "      <td>Клиника счастья</td>\n",
       "      <td>Klinika schast'ya</td>\n",
       "      <td>2021.0</td>\n",
       "      <td>драмы, мелодрамы</td>\n",
       "      <td>Россия</td>\n",
       "      <td>NaN</td>\n",
       "      <td>18.0</td>\n",
       "      <td>NaN</td>\n",
       "      <td>Александр Кириенко</td>\n",
       "      <td>Дарья Мороз, Анатолий Белый, Данил Акутин, Мар...</td>\n",
       "      <td>Успешный сексолог Алена уверена, что нашла фор...</td>\n",
       "      <td>Клиника счастья, Клиника, Счастье, Клиника сча...</td>\n",
       "      <td>(2020.0, 2025.0]</td>\n",
       "    </tr>\n",
       "    <tr>\n",
       "      <th>1882</th>\n",
       "      <td>10440</td>\n",
       "      <td>series</td>\n",
       "      <td>Хрустальный</td>\n",
       "      <td>Khrustal'nyy</td>\n",
       "      <td>2021.0</td>\n",
       "      <td>триллеры, детективы</td>\n",
       "      <td>Россия</td>\n",
       "      <td>NaN</td>\n",
       "      <td>18.0</td>\n",
       "      <td>NaN</td>\n",
       "      <td>Душан Глигоров</td>\n",
       "      <td>Антон Васильев, Николай Шрайбер, Екатерина Оль...</td>\n",
       "      <td>Сергей Смирнов — один из лучших «охотников на ...</td>\n",
       "      <td>хруст, хрусталь, хруста, хрус, полицейский, пе...</td>\n",
       "      <td>(2020.0, 2025.0]</td>\n",
       "    </tr>\n",
       "    <tr>\n",
       "      <th>3875</th>\n",
       "      <td>6809</td>\n",
       "      <td>film</td>\n",
       "      <td>Дуров</td>\n",
       "      <td>NaN</td>\n",
       "      <td>2021.0</td>\n",
       "      <td>документальное</td>\n",
       "      <td>Россия</td>\n",
       "      <td>NaN</td>\n",
       "      <td>16.0</td>\n",
       "      <td>NaN</td>\n",
       "      <td>Родион Чепель</td>\n",
       "      <td>NaN</td>\n",
       "      <td>Уникальная история о лидере нового поколения, ...</td>\n",
       "      <td>Компьютер, Монитор, Гений, Интервью, Предприни...</td>\n",
       "      <td>(2020.0, 2025.0]</td>\n",
       "    </tr>\n",
       "    <tr>\n",
       "      <th>6346</th>\n",
       "      <td>9728</td>\n",
       "      <td>film</td>\n",
       "      <td>Гнев человеческий</td>\n",
       "      <td>Wrath of Man</td>\n",
       "      <td>2021.0</td>\n",
       "      <td>боевики, триллеры</td>\n",
       "      <td>Великобритания, США</td>\n",
       "      <td>NaN</td>\n",
       "      <td>18.0</td>\n",
       "      <td>NaN</td>\n",
       "      <td>Гай Ричи</td>\n",
       "      <td>Джейсон Стэйтем, Холт МакКэллани, Джеффри Доно...</td>\n",
       "      <td>Грузовики лос-анджелесской инкассаторской комп...</td>\n",
       "      <td>ограбление, криминальный авторитет, месть, пер...</td>\n",
       "      <td>(2020.0, 2025.0]</td>\n",
       "    </tr>\n",
       "    <tr>\n",
       "      <th>6501</th>\n",
       "      <td>13865</td>\n",
       "      <td>film</td>\n",
       "      <td>Девятаев</td>\n",
       "      <td>V2. Escape from Hell</td>\n",
       "      <td>2021.0</td>\n",
       "      <td>драмы, военные, приключения</td>\n",
       "      <td>Россия</td>\n",
       "      <td>NaN</td>\n",
       "      <td>12.0</td>\n",
       "      <td>NaN</td>\n",
       "      <td>Тимур Бекмамбетов</td>\n",
       "      <td>Павел Прилучный, Павел Чинарёв, Тимофей Трибун...</td>\n",
       "      <td>Военно-исторический блокбастер от режиссёров Т...</td>\n",
       "      <td>Девятаев, Девятаева, Девят, Девя, Девята, Девя...</td>\n",
       "      <td>(2020.0, 2025.0]</td>\n",
       "    </tr>\n",
       "    <tr>\n",
       "      <th>6689</th>\n",
       "      <td>4151</td>\n",
       "      <td>series</td>\n",
       "      <td>Секреты семейной жизни</td>\n",
       "      <td>NaN</td>\n",
       "      <td>2021.0</td>\n",
       "      <td>комедии</td>\n",
       "      <td>Россия</td>\n",
       "      <td>NaN</td>\n",
       "      <td>18.0</td>\n",
       "      <td>NaN</td>\n",
       "      <td>Шота Гамисония</td>\n",
       "      <td>Петр Скворцов, Алена Михайлова, Федор Лавров, ...</td>\n",
       "      <td>У Никиты и Полины всё начиналось прекрасно: об...</td>\n",
       "      <td>брызги крови, кровь, жестокое обращение с живо...</td>\n",
       "      <td>(2020.0, 2025.0]</td>\n",
       "    </tr>\n",
       "    <tr>\n",
       "      <th>7486</th>\n",
       "      <td>8636</td>\n",
       "      <td>film</td>\n",
       "      <td>Белый снег</td>\n",
       "      <td>Belyy sneg</td>\n",
       "      <td>2021.0</td>\n",
       "      <td>драмы, спорт</td>\n",
       "      <td>Россия</td>\n",
       "      <td>NaN</td>\n",
       "      <td>6.0</td>\n",
       "      <td>NaN</td>\n",
       "      <td>Николай Хомерики</td>\n",
       "      <td>Ольга Лерман, Федор Добронравов, Надежда Марки...</td>\n",
       "      <td>Отечественная спортивная драма про лыжницу и о...</td>\n",
       "      <td>биография, занятие спортом, байопик, чемпионат...</td>\n",
       "      <td>(2020.0, 2025.0]</td>\n",
       "    </tr>\n",
       "    <tr>\n",
       "      <th>12050</th>\n",
       "      <td>3734</td>\n",
       "      <td>film</td>\n",
       "      <td>Прабабушка легкого поведения</td>\n",
       "      <td>Prababushka lyogkogo povedeniya</td>\n",
       "      <td>2021.0</td>\n",
       "      <td>комедии</td>\n",
       "      <td>Россия</td>\n",
       "      <td>NaN</td>\n",
       "      <td>16.0</td>\n",
       "      <td>NaN</td>\n",
       "      <td>Марюс Вайсберг</td>\n",
       "      <td>Александр Ревва, Глюкоза, Дмитрий Нагиев, Миха...</td>\n",
       "      <td>1980 год, вся страна следит за событиями моско...</td>\n",
       "      <td>, 2021, россия, прабабушка, легкого, поведения</td>\n",
       "      <td>(2020.0, 2025.0]</td>\n",
       "    </tr>\n",
       "    <tr>\n",
       "      <th>13615</th>\n",
       "      <td>2657</td>\n",
       "      <td>series</td>\n",
       "      <td>Подслушано</td>\n",
       "      <td>Podslushano</td>\n",
       "      <td>2021.0</td>\n",
       "      <td>драмы, триллеры</td>\n",
       "      <td>Россия</td>\n",
       "      <td>NaN</td>\n",
       "      <td>16.0</td>\n",
       "      <td>NaN</td>\n",
       "      <td>Илья Куликов</td>\n",
       "      <td>Александр Hовиков, Валентина Ляпина, Никита Па...</td>\n",
       "      <td>Смотри:- как кино- как сериалПодростковый псих...</td>\n",
       "      <td>подслушано, подслушано в контакте, социальная ...</td>\n",
       "      <td>(2020.0, 2025.0]</td>\n",
       "    </tr>\n",
       "    <tr>\n",
       "      <th>15234</th>\n",
       "      <td>142</td>\n",
       "      <td>film</td>\n",
       "      <td>Маша</td>\n",
       "      <td>Masha</td>\n",
       "      <td>2020.0</td>\n",
       "      <td>драмы, триллеры</td>\n",
       "      <td>Россия</td>\n",
       "      <td>NaN</td>\n",
       "      <td>16.0</td>\n",
       "      <td>NaN</td>\n",
       "      <td>Анастасия Пальчикова</td>\n",
       "      <td>Максим Суханов, Аня Чиповская, Полина Гухман, ...</td>\n",
       "      <td>13-летняя Маша растёт между боксёрским рингом ...</td>\n",
       "      <td>Фильм Маша, Маша фильм 2021, Смотреть фильм Ма...</td>\n",
       "      <td>(2015.0, 2020.0]</td>\n",
       "    </tr>\n",
       "  </tbody>\n",
       "</table>\n",
       "</div>"
      ],
      "text/plain": [
       "       item_id content_type                         title  \\\n",
       "767      15297       series               Клиника счастья   \n",
       "1882     10440       series                   Хрустальный   \n",
       "3875      6809         film                         Дуров   \n",
       "6346      9728         film             Гнев человеческий   \n",
       "6501     13865         film                      Девятаев   \n",
       "6689      4151       series        Секреты семейной жизни   \n",
       "7486      8636         film                    Белый снег   \n",
       "12050     3734         film  Прабабушка легкого поведения   \n",
       "13615     2657       series                    Подслушано   \n",
       "15234      142         film                          Маша   \n",
       "\n",
       "                            title_orig  release_year  \\\n",
       "767                  Klinika schast'ya        2021.0   \n",
       "1882                      Khrustal'nyy        2021.0   \n",
       "3875                               NaN        2021.0   \n",
       "6346                      Wrath of Man        2021.0   \n",
       "6501              V2. Escape from Hell        2021.0   \n",
       "6689                               NaN        2021.0   \n",
       "7486                        Belyy sneg        2021.0   \n",
       "12050  Prababushka lyogkogo povedeniya        2021.0   \n",
       "13615                      Podslushano        2021.0   \n",
       "15234                            Masha        2020.0   \n",
       "\n",
       "                            genres            countries  for_kids  age_rating  \\\n",
       "767               драмы, мелодрамы               Россия       NaN        18.0   \n",
       "1882           триллеры, детективы               Россия       NaN        18.0   \n",
       "3875                документальное               Россия       NaN        16.0   \n",
       "6346             боевики, триллеры  Великобритания, США       NaN        18.0   \n",
       "6501   драмы, военные, приключения               Россия       NaN        12.0   \n",
       "6689                       комедии               Россия       NaN        18.0   \n",
       "7486                  драмы, спорт               Россия       NaN         6.0   \n",
       "12050                      комедии               Россия       NaN        16.0   \n",
       "13615              драмы, триллеры               Россия       NaN        16.0   \n",
       "15234              драмы, триллеры               Россия       NaN        16.0   \n",
       "\n",
       "      studios             directors  \\\n",
       "767       NaN    Александр Кириенко   \n",
       "1882      NaN        Душан Глигоров   \n",
       "3875      NaN         Родион Чепель   \n",
       "6346      NaN              Гай Ричи   \n",
       "6501      NaN     Тимур Бекмамбетов   \n",
       "6689      NaN        Шота Гамисония   \n",
       "7486      NaN      Николай Хомерики   \n",
       "12050     NaN        Марюс Вайсберг   \n",
       "13615     NaN          Илья Куликов   \n",
       "15234     NaN  Анастасия Пальчикова   \n",
       "\n",
       "                                                  actors  \\\n",
       "767    Дарья Мороз, Анатолий Белый, Данил Акутин, Мар...   \n",
       "1882   Антон Васильев, Николай Шрайбер, Екатерина Оль...   \n",
       "3875                                                 NaN   \n",
       "6346   Джейсон Стэйтем, Холт МакКэллани, Джеффри Доно...   \n",
       "6501   Павел Прилучный, Павел Чинарёв, Тимофей Трибун...   \n",
       "6689   Петр Скворцов, Алена Михайлова, Федор Лавров, ...   \n",
       "7486   Ольга Лерман, Федор Добронравов, Надежда Марки...   \n",
       "12050  Александр Ревва, Глюкоза, Дмитрий Нагиев, Миха...   \n",
       "13615  Александр Hовиков, Валентина Ляпина, Никита Па...   \n",
       "15234  Максим Суханов, Аня Чиповская, Полина Гухман, ...   \n",
       "\n",
       "                                             description  \\\n",
       "767    Успешный сексолог Алена уверена, что нашла фор...   \n",
       "1882   Сергей Смирнов — один из лучших «охотников на ...   \n",
       "3875   Уникальная история о лидере нового поколения, ...   \n",
       "6346   Грузовики лос-анджелесской инкассаторской комп...   \n",
       "6501   Военно-исторический блокбастер от режиссёров Т...   \n",
       "6689   У Никиты и Полины всё начиналось прекрасно: об...   \n",
       "7486   Отечественная спортивная драма про лыжницу и о...   \n",
       "12050  1980 год, вся страна следит за событиями моско...   \n",
       "13615  Смотри:- как кино- как сериалПодростковый псих...   \n",
       "15234  13-летняя Маша растёт между боксёрским рингом ...   \n",
       "\n",
       "                                                keywords          year_bin  \n",
       "767    Клиника счастья, Клиника, Счастье, Клиника сча...  (2020.0, 2025.0]  \n",
       "1882   хруст, хрусталь, хруста, хрус, полицейский, пе...  (2020.0, 2025.0]  \n",
       "3875   Компьютер, Монитор, Гений, Интервью, Предприни...  (2020.0, 2025.0]  \n",
       "6346   ограбление, криминальный авторитет, месть, пер...  (2020.0, 2025.0]  \n",
       "6501   Девятаев, Девятаева, Девят, Девя, Девята, Девя...  (2020.0, 2025.0]  \n",
       "6689   брызги крови, кровь, жестокое обращение с живо...  (2020.0, 2025.0]  \n",
       "7486   биография, занятие спортом, байопик, чемпионат...  (2020.0, 2025.0]  \n",
       "12050     , 2021, россия, прабабушка, легкого, поведения  (2020.0, 2025.0]  \n",
       "13615  подслушано, подслушано в контакте, социальная ...  (2020.0, 2025.0]  \n",
       "15234  Фильм Маша, Маша фильм 2021, Смотреть фильм Ма...  (2015.0, 2020.0]  "
      ]
     },
     "execution_count": 79,
     "metadata": {},
     "output_type": "execute_result"
    }
   ],
   "source": [
    "items[items.item_id.isin(recs[recs.user_id == -2].item_id)]"
   ]
  },
  {
   "cell_type": "code",
   "execution_count": 80,
   "metadata": {},
   "outputs": [
    {
     "data": {
      "text/html": [
       "<div>\n",
       "<style scoped>\n",
       "    .dataframe tbody tr th:only-of-type {\n",
       "        vertical-align: middle;\n",
       "    }\n",
       "\n",
       "    .dataframe tbody tr th {\n",
       "        vertical-align: top;\n",
       "    }\n",
       "\n",
       "    .dataframe thead th {\n",
       "        text-align: right;\n",
       "    }\n",
       "</style>\n",
       "<table border=\"1\" class=\"dataframe\">\n",
       "  <thead>\n",
       "    <tr style=\"text-align: right;\">\n",
       "      <th></th>\n",
       "      <th>item_id</th>\n",
       "      <th>content_type</th>\n",
       "      <th>title</th>\n",
       "      <th>title_orig</th>\n",
       "      <th>release_year</th>\n",
       "      <th>genres</th>\n",
       "      <th>countries</th>\n",
       "      <th>for_kids</th>\n",
       "      <th>age_rating</th>\n",
       "      <th>studios</th>\n",
       "      <th>directors</th>\n",
       "      <th>actors</th>\n",
       "      <th>description</th>\n",
       "      <th>keywords</th>\n",
       "      <th>year_bin</th>\n",
       "    </tr>\n",
       "  </thead>\n",
       "  <tbody>\n",
       "    <tr>\n",
       "      <th>767</th>\n",
       "      <td>15297</td>\n",
       "      <td>series</td>\n",
       "      <td>Клиника счастья</td>\n",
       "      <td>Klinika schast'ya</td>\n",
       "      <td>2021.0</td>\n",
       "      <td>драмы, мелодрамы</td>\n",
       "      <td>Россия</td>\n",
       "      <td>NaN</td>\n",
       "      <td>18.0</td>\n",
       "      <td>NaN</td>\n",
       "      <td>Александр Кириенко</td>\n",
       "      <td>Дарья Мороз, Анатолий Белый, Данил Акутин, Мар...</td>\n",
       "      <td>Успешный сексолог Алена уверена, что нашла фор...</td>\n",
       "      <td>Клиника счастья, Клиника, Счастье, Клиника сча...</td>\n",
       "      <td>(2020.0, 2025.0]</td>\n",
       "    </tr>\n",
       "    <tr>\n",
       "      <th>1882</th>\n",
       "      <td>10440</td>\n",
       "      <td>series</td>\n",
       "      <td>Хрустальный</td>\n",
       "      <td>Khrustal'nyy</td>\n",
       "      <td>2021.0</td>\n",
       "      <td>триллеры, детективы</td>\n",
       "      <td>Россия</td>\n",
       "      <td>NaN</td>\n",
       "      <td>18.0</td>\n",
       "      <td>NaN</td>\n",
       "      <td>Душан Глигоров</td>\n",
       "      <td>Антон Васильев, Николай Шрайбер, Екатерина Оль...</td>\n",
       "      <td>Сергей Смирнов — один из лучших «охотников на ...</td>\n",
       "      <td>хруст, хрусталь, хруста, хрус, полицейский, пе...</td>\n",
       "      <td>(2020.0, 2025.0]</td>\n",
       "    </tr>\n",
       "    <tr>\n",
       "      <th>3875</th>\n",
       "      <td>6809</td>\n",
       "      <td>film</td>\n",
       "      <td>Дуров</td>\n",
       "      <td>NaN</td>\n",
       "      <td>2021.0</td>\n",
       "      <td>документальное</td>\n",
       "      <td>Россия</td>\n",
       "      <td>NaN</td>\n",
       "      <td>16.0</td>\n",
       "      <td>NaN</td>\n",
       "      <td>Родион Чепель</td>\n",
       "      <td>NaN</td>\n",
       "      <td>Уникальная история о лидере нового поколения, ...</td>\n",
       "      <td>Компьютер, Монитор, Гений, Интервью, Предприни...</td>\n",
       "      <td>(2020.0, 2025.0]</td>\n",
       "    </tr>\n",
       "    <tr>\n",
       "      <th>6346</th>\n",
       "      <td>9728</td>\n",
       "      <td>film</td>\n",
       "      <td>Гнев человеческий</td>\n",
       "      <td>Wrath of Man</td>\n",
       "      <td>2021.0</td>\n",
       "      <td>боевики, триллеры</td>\n",
       "      <td>Великобритания, США</td>\n",
       "      <td>NaN</td>\n",
       "      <td>18.0</td>\n",
       "      <td>NaN</td>\n",
       "      <td>Гай Ричи</td>\n",
       "      <td>Джейсон Стэйтем, Холт МакКэллани, Джеффри Доно...</td>\n",
       "      <td>Грузовики лос-анджелесской инкассаторской комп...</td>\n",
       "      <td>ограбление, криминальный авторитет, месть, пер...</td>\n",
       "      <td>(2020.0, 2025.0]</td>\n",
       "    </tr>\n",
       "    <tr>\n",
       "      <th>6501</th>\n",
       "      <td>13865</td>\n",
       "      <td>film</td>\n",
       "      <td>Девятаев</td>\n",
       "      <td>V2. Escape from Hell</td>\n",
       "      <td>2021.0</td>\n",
       "      <td>драмы, военные, приключения</td>\n",
       "      <td>Россия</td>\n",
       "      <td>NaN</td>\n",
       "      <td>12.0</td>\n",
       "      <td>NaN</td>\n",
       "      <td>Тимур Бекмамбетов</td>\n",
       "      <td>Павел Прилучный, Павел Чинарёв, Тимофей Трибун...</td>\n",
       "      <td>Военно-исторический блокбастер от режиссёров Т...</td>\n",
       "      <td>Девятаев, Девятаева, Девят, Девя, Девята, Девя...</td>\n",
       "      <td>(2020.0, 2025.0]</td>\n",
       "    </tr>\n",
       "    <tr>\n",
       "      <th>6689</th>\n",
       "      <td>4151</td>\n",
       "      <td>series</td>\n",
       "      <td>Секреты семейной жизни</td>\n",
       "      <td>NaN</td>\n",
       "      <td>2021.0</td>\n",
       "      <td>комедии</td>\n",
       "      <td>Россия</td>\n",
       "      <td>NaN</td>\n",
       "      <td>18.0</td>\n",
       "      <td>NaN</td>\n",
       "      <td>Шота Гамисония</td>\n",
       "      <td>Петр Скворцов, Алена Михайлова, Федор Лавров, ...</td>\n",
       "      <td>У Никиты и Полины всё начиналось прекрасно: об...</td>\n",
       "      <td>брызги крови, кровь, жестокое обращение с живо...</td>\n",
       "      <td>(2020.0, 2025.0]</td>\n",
       "    </tr>\n",
       "    <tr>\n",
       "      <th>7486</th>\n",
       "      <td>8636</td>\n",
       "      <td>film</td>\n",
       "      <td>Белый снег</td>\n",
       "      <td>Belyy sneg</td>\n",
       "      <td>2021.0</td>\n",
       "      <td>драмы, спорт</td>\n",
       "      <td>Россия</td>\n",
       "      <td>NaN</td>\n",
       "      <td>6.0</td>\n",
       "      <td>NaN</td>\n",
       "      <td>Николай Хомерики</td>\n",
       "      <td>Ольга Лерман, Федор Добронравов, Надежда Марки...</td>\n",
       "      <td>Отечественная спортивная драма про лыжницу и о...</td>\n",
       "      <td>биография, занятие спортом, байопик, чемпионат...</td>\n",
       "      <td>(2020.0, 2025.0]</td>\n",
       "    </tr>\n",
       "    <tr>\n",
       "      <th>12050</th>\n",
       "      <td>3734</td>\n",
       "      <td>film</td>\n",
       "      <td>Прабабушка легкого поведения</td>\n",
       "      <td>Prababushka lyogkogo povedeniya</td>\n",
       "      <td>2021.0</td>\n",
       "      <td>комедии</td>\n",
       "      <td>Россия</td>\n",
       "      <td>NaN</td>\n",
       "      <td>16.0</td>\n",
       "      <td>NaN</td>\n",
       "      <td>Марюс Вайсберг</td>\n",
       "      <td>Александр Ревва, Глюкоза, Дмитрий Нагиев, Миха...</td>\n",
       "      <td>1980 год, вся страна следит за событиями моско...</td>\n",
       "      <td>, 2021, россия, прабабушка, легкого, поведения</td>\n",
       "      <td>(2020.0, 2025.0]</td>\n",
       "    </tr>\n",
       "    <tr>\n",
       "      <th>13615</th>\n",
       "      <td>2657</td>\n",
       "      <td>series</td>\n",
       "      <td>Подслушано</td>\n",
       "      <td>Podslushano</td>\n",
       "      <td>2021.0</td>\n",
       "      <td>драмы, триллеры</td>\n",
       "      <td>Россия</td>\n",
       "      <td>NaN</td>\n",
       "      <td>16.0</td>\n",
       "      <td>NaN</td>\n",
       "      <td>Илья Куликов</td>\n",
       "      <td>Александр Hовиков, Валентина Ляпина, Никита Па...</td>\n",
       "      <td>Смотри:- как кино- как сериалПодростковый псих...</td>\n",
       "      <td>подслушано, подслушано в контакте, социальная ...</td>\n",
       "      <td>(2020.0, 2025.0]</td>\n",
       "    </tr>\n",
       "    <tr>\n",
       "      <th>15234</th>\n",
       "      <td>142</td>\n",
       "      <td>film</td>\n",
       "      <td>Маша</td>\n",
       "      <td>Masha</td>\n",
       "      <td>2020.0</td>\n",
       "      <td>драмы, триллеры</td>\n",
       "      <td>Россия</td>\n",
       "      <td>NaN</td>\n",
       "      <td>16.0</td>\n",
       "      <td>NaN</td>\n",
       "      <td>Анастасия Пальчикова</td>\n",
       "      <td>Максим Суханов, Аня Чиповская, Полина Гухман, ...</td>\n",
       "      <td>13-летняя Маша растёт между боксёрским рингом ...</td>\n",
       "      <td>Фильм Маша, Маша фильм 2021, Смотреть фильм Ма...</td>\n",
       "      <td>(2015.0, 2020.0]</td>\n",
       "    </tr>\n",
       "  </tbody>\n",
       "</table>\n",
       "</div>"
      ],
      "text/plain": [
       "       item_id content_type                         title  \\\n",
       "767      15297       series               Клиника счастья   \n",
       "1882     10440       series                   Хрустальный   \n",
       "3875      6809         film                         Дуров   \n",
       "6346      9728         film             Гнев человеческий   \n",
       "6501     13865         film                      Девятаев   \n",
       "6689      4151       series        Секреты семейной жизни   \n",
       "7486      8636         film                    Белый снег   \n",
       "12050     3734         film  Прабабушка легкого поведения   \n",
       "13615     2657       series                    Подслушано   \n",
       "15234      142         film                          Маша   \n",
       "\n",
       "                            title_orig  release_year  \\\n",
       "767                  Klinika schast'ya        2021.0   \n",
       "1882                      Khrustal'nyy        2021.0   \n",
       "3875                               NaN        2021.0   \n",
       "6346                      Wrath of Man        2021.0   \n",
       "6501              V2. Escape from Hell        2021.0   \n",
       "6689                               NaN        2021.0   \n",
       "7486                        Belyy sneg        2021.0   \n",
       "12050  Prababushka lyogkogo povedeniya        2021.0   \n",
       "13615                      Podslushano        2021.0   \n",
       "15234                            Masha        2020.0   \n",
       "\n",
       "                            genres            countries  for_kids  age_rating  \\\n",
       "767               драмы, мелодрамы               Россия       NaN        18.0   \n",
       "1882           триллеры, детективы               Россия       NaN        18.0   \n",
       "3875                документальное               Россия       NaN        16.0   \n",
       "6346             боевики, триллеры  Великобритания, США       NaN        18.0   \n",
       "6501   драмы, военные, приключения               Россия       NaN        12.0   \n",
       "6689                       комедии               Россия       NaN        18.0   \n",
       "7486                  драмы, спорт               Россия       NaN         6.0   \n",
       "12050                      комедии               Россия       NaN        16.0   \n",
       "13615              драмы, триллеры               Россия       NaN        16.0   \n",
       "15234              драмы, триллеры               Россия       NaN        16.0   \n",
       "\n",
       "      studios             directors  \\\n",
       "767       NaN    Александр Кириенко   \n",
       "1882      NaN        Душан Глигоров   \n",
       "3875      NaN         Родион Чепель   \n",
       "6346      NaN              Гай Ричи   \n",
       "6501      NaN     Тимур Бекмамбетов   \n",
       "6689      NaN        Шота Гамисония   \n",
       "7486      NaN      Николай Хомерики   \n",
       "12050     NaN        Марюс Вайсберг   \n",
       "13615     NaN          Илья Куликов   \n",
       "15234     NaN  Анастасия Пальчикова   \n",
       "\n",
       "                                                  actors  \\\n",
       "767    Дарья Мороз, Анатолий Белый, Данил Акутин, Мар...   \n",
       "1882   Антон Васильев, Николай Шрайбер, Екатерина Оль...   \n",
       "3875                                                 NaN   \n",
       "6346   Джейсон Стэйтем, Холт МакКэллани, Джеффри Доно...   \n",
       "6501   Павел Прилучный, Павел Чинарёв, Тимофей Трибун...   \n",
       "6689   Петр Скворцов, Алена Михайлова, Федор Лавров, ...   \n",
       "7486   Ольга Лерман, Федор Добронравов, Надежда Марки...   \n",
       "12050  Александр Ревва, Глюкоза, Дмитрий Нагиев, Миха...   \n",
       "13615  Александр Hовиков, Валентина Ляпина, Никита Па...   \n",
       "15234  Максим Суханов, Аня Чиповская, Полина Гухман, ...   \n",
       "\n",
       "                                             description  \\\n",
       "767    Успешный сексолог Алена уверена, что нашла фор...   \n",
       "1882   Сергей Смирнов — один из лучших «охотников на ...   \n",
       "3875   Уникальная история о лидере нового поколения, ...   \n",
       "6346   Грузовики лос-анджелесской инкассаторской комп...   \n",
       "6501   Военно-исторический блокбастер от режиссёров Т...   \n",
       "6689   У Никиты и Полины всё начиналось прекрасно: об...   \n",
       "7486   Отечественная спортивная драма про лыжницу и о...   \n",
       "12050  1980 год, вся страна следит за событиями моско...   \n",
       "13615  Смотри:- как кино- как сериалПодростковый псих...   \n",
       "15234  13-летняя Маша растёт между боксёрским рингом ...   \n",
       "\n",
       "                                                keywords          year_bin  \n",
       "767    Клиника счастья, Клиника, Счастье, Клиника сча...  (2020.0, 2025.0]  \n",
       "1882   хруст, хрусталь, хруста, хрус, полицейский, пе...  (2020.0, 2025.0]  \n",
       "3875   Компьютер, Монитор, Гений, Интервью, Предприни...  (2020.0, 2025.0]  \n",
       "6346   ограбление, криминальный авторитет, месть, пер...  (2020.0, 2025.0]  \n",
       "6501   Девятаев, Девятаева, Девят, Девя, Девята, Девя...  (2020.0, 2025.0]  \n",
       "6689   брызги крови, кровь, жестокое обращение с живо...  (2020.0, 2025.0]  \n",
       "7486   биография, занятие спортом, байопик, чемпионат...  (2020.0, 2025.0]  \n",
       "12050     , 2021, россия, прабабушка, легкого, поведения  (2020.0, 2025.0]  \n",
       "13615  подслушано, подслушано в контакте, социальная ...  (2020.0, 2025.0]  \n",
       "15234  Фильм Маша, Маша фильм 2021, Смотреть фильм Ма...  (2015.0, 2020.0]  "
      ]
     },
     "execution_count": 80,
     "metadata": {},
     "output_type": "execute_result"
    }
   ],
   "source": [
    "items[items.item_id.isin(recs[recs.user_id == -3].item_id)]"
   ]
  },
  {
   "cell_type": "markdown",
   "metadata": {},
   "source": [
    "В отличии от als и svd выдача у модели очень похожа на популярное, хотя отличия есть, но релевантность низкая"
   ]
  },
  {
   "cell_type": "code",
   "execution_count": null,
   "metadata": {},
   "outputs": [],
   "source": []
  }
 ],
 "metadata": {
  "kernelspec": {
   "display_name": "Python 3",
   "language": "python",
   "name": "python3"
  },
  "language_info": {
   "codemirror_mode": {
    "name": "ipython",
    "version": 3
   },
   "file_extension": ".py",
   "mimetype": "text/x-python",
   "name": "python",
   "nbconvert_exporter": "python",
   "pygments_lexer": "ipython3",
   "version": "3.8.10 (default, Nov 14 2022, 12:59:47) \n[GCC 9.4.0]"
  },
  "vscode": {
   "interpreter": {
    "hash": "916dbcbb3f70747c44a77c7bcd40155683ae19c65e1c03b4aa3499c5328201f1"
   }
  }
 },
 "nbformat": 4,
 "nbformat_minor": 4
}
