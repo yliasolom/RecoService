{
 "cells": [
  {
   "cell_type": "markdown",
   "metadata": {
    "id": "CymVFyzXURSn"
   },
   "source": [
    "# HW №2.1"
   ]
  },
  {
   "cell_type": "markdown",
   "metadata": {
    "id": "PwxDr496Ul63"
   },
   "source": [
    "**Промежуточная задача** - преобразовать данные в `pandas.DataFrame` вида `{user, item, order}`, где `order` - порядковый номер с конца (0 - самый \"свежий\" лайк, чем больше `order`, тем позже был поставлен лайк)\n",
    "\n",
    "**Итоговая задача** - построить схему валидации для данного соревнования с учетом особенностей сорвенования\n",
    "\n",
    "\n",
    "\n",
    "\n",
    "*   Между `train` и `test` не должно быть общих пользователей\n",
    "*   Количество фолдов задается через параметр класса `n_folds`\n",
    "*   В `test` должно быть не более `p` последних треков (параметр класса `p`)"
   ]
  },
  {
   "cell_type": "markdown",
   "metadata": {
    "id": "CP_jnjjcah98"
   },
   "source": [
    "## 0. Предподготовка "
   ]
  },
  {
   "cell_type": "code",
   "execution_count": 10,
   "metadata": {
    "id": "4ftii5vlX6aL"
   },
   "outputs": [],
   "source": [
    "import pandas as pd\n",
    "import numpy as np\n",
    "from pathlib import Path"
   ]
  },
  {
   "cell_type": "code",
   "execution_count": 11,
   "metadata": {
    "id": "F3WjIZzDb44w"
   },
   "outputs": [],
   "source": [
    "PATH = Path('/home/iuliiasolomennikova/Desktop/RecoService/data')"
   ]
  },
  {
   "cell_type": "code",
   "execution_count": null,
   "metadata": {
    "colab": {
     "base_uri": "https://localhost:8080/"
    },
    "id": "083foCK6cCbq",
    "outputId": "3667f125-7c7e-4334-a768-65805f08c452"
   },
   "outputs": [],
   "source": [
    "!unzip '{PATH}/dataframe.csv.zip'"
   ]
  },
  {
   "cell_type": "code",
   "execution_count": 14,
   "metadata": {
    "id": "nBVSLAgTcVE0"
   },
   "outputs": [],
   "source": [
    "df = pd.read_csv(PATH/'dataframe.csv')"
   ]
  },
  {
   "cell_type": "markdown",
   "metadata": {
    "id": "-rb5vxlQU3_R"
   },
   "source": [
    "## 1. Промежуточная задача"
   ]
  },
  {
   "cell_type": "code",
   "execution_count": 15,
   "metadata": {
    "id": "djlbc8JSYVKl"
   },
   "outputs": [],
   "source": [
    "# предотвращаем пересечение id пользователей в трейне и тесте выборке\n",
    "max_id_train = df[df.is_train == 1].user_id.max()\n",
    "df.loc[df.is_train == 0, \"user_id\"] += max_id_train\n",
    "\n",
    "# оставляем только нужные столбцы и rename\n",
    "df = df[['user_id', 'track_id']]\n",
    "df = df.rename(columns={\n",
    "    \"user_id\": \"user\", \n",
    "    \"track_id\": \"item\",\n",
    "    })\n"
   ]
  },
  {
   "cell_type": "code",
   "execution_count": 16,
   "metadata": {
    "colab": {
     "base_uri": "https://localhost:8080/",
     "height": 424
    },
    "id": "Zf8KRC6RtfJH",
    "outputId": "f8b3759a-a4f3-4ff2-ea07-c0c6d058e116"
   },
   "outputs": [
    {
     "data": {
      "text/html": [
       "<div>\n",
       "<style scoped>\n",
       "    .dataframe tbody tr th:only-of-type {\n",
       "        vertical-align: middle;\n",
       "    }\n",
       "\n",
       "    .dataframe tbody tr th {\n",
       "        vertical-align: top;\n",
       "    }\n",
       "\n",
       "    .dataframe thead th {\n",
       "        text-align: right;\n",
       "    }\n",
       "</style>\n",
       "<table border=\"1\" class=\"dataframe\">\n",
       "  <thead>\n",
       "    <tr style=\"text-align: right;\">\n",
       "      <th></th>\n",
       "      <th>user</th>\n",
       "      <th>item</th>\n",
       "      <th>order</th>\n",
       "    </tr>\n",
       "  </thead>\n",
       "  <tbody>\n",
       "    <tr>\n",
       "      <th>0</th>\n",
       "      <td>0</td>\n",
       "      <td>333396</td>\n",
       "      <td>0</td>\n",
       "    </tr>\n",
       "    <tr>\n",
       "      <th>1</th>\n",
       "      <td>0</td>\n",
       "      <td>267089</td>\n",
       "      <td>1</td>\n",
       "    </tr>\n",
       "    <tr>\n",
       "      <th>2</th>\n",
       "      <td>0</td>\n",
       "      <td>155959</td>\n",
       "      <td>2</td>\n",
       "    </tr>\n",
       "    <tr>\n",
       "      <th>3</th>\n",
       "      <td>0</td>\n",
       "      <td>353335</td>\n",
       "      <td>3</td>\n",
       "    </tr>\n",
       "    <tr>\n",
       "      <th>4</th>\n",
       "      <td>0</td>\n",
       "      <td>414000</td>\n",
       "      <td>4</td>\n",
       "    </tr>\n",
       "    <tr>\n",
       "      <th>...</th>\n",
       "      <td>...</td>\n",
       "      <td>...</td>\n",
       "      <td>...</td>\n",
       "    </tr>\n",
       "    <tr>\n",
       "      <th>117450829</th>\n",
       "      <td>1449996</td>\n",
       "      <td>448288</td>\n",
       "      <td>34</td>\n",
       "    </tr>\n",
       "    <tr>\n",
       "      <th>117450830</th>\n",
       "      <td>1449996</td>\n",
       "      <td>1343</td>\n",
       "      <td>35</td>\n",
       "    </tr>\n",
       "    <tr>\n",
       "      <th>117450831</th>\n",
       "      <td>1449996</td>\n",
       "      <td>86420</td>\n",
       "      <td>36</td>\n",
       "    </tr>\n",
       "    <tr>\n",
       "      <th>117450832</th>\n",
       "      <td>1449996</td>\n",
       "      <td>186436</td>\n",
       "      <td>37</td>\n",
       "    </tr>\n",
       "    <tr>\n",
       "      <th>117450833</th>\n",
       "      <td>1449996</td>\n",
       "      <td>8474</td>\n",
       "      <td>38</td>\n",
       "    </tr>\n",
       "  </tbody>\n",
       "</table>\n",
       "<p>117450834 rows × 3 columns</p>\n",
       "</div>"
      ],
      "text/plain": [
       "              user    item  order\n",
       "0                0  333396      0\n",
       "1                0  267089      1\n",
       "2                0  155959      2\n",
       "3                0  353335      3\n",
       "4                0  414000      4\n",
       "...            ...     ...    ...\n",
       "117450829  1449996  448288     34\n",
       "117450830  1449996    1343     35\n",
       "117450831  1449996   86420     36\n",
       "117450832  1449996  186436     37\n",
       "117450833  1449996    8474     38\n",
       "\n",
       "[117450834 rows x 3 columns]"
      ]
     },
     "execution_count": 16,
     "metadata": {},
     "output_type": "execute_result"
    }
   ],
   "source": [
    "# добавляем столбец с порядком \"свежести\" лайков\n",
    "df['order'] = df.groupby('user').cumcount() \n",
    "\n",
    "df"
   ]
  },
  {
   "cell_type": "markdown",
   "metadata": {
    "id": "d63Mrw2yVa4J"
   },
   "source": [
    "## 2. Итоговая задача"
   ]
  },
  {
   "cell_type": "code",
   "execution_count": 17,
   "metadata": {
    "id": "vt4pRrM8Vfag"
   },
   "outputs": [],
   "source": [
    "class UsersKFoldPOut():\n",
    "    def __init__(self, n_folds, p, random_seed=23):\n",
    "        self.n_folds = n_folds\n",
    "        self.p = p\n",
    "        self.random_seed = random_seed\n",
    "    \n",
    "    def split(self, df):\n",
    "        users = df.user.unique()\n",
    "        num_users = len(users)\n",
    "\n",
    "        np.random.seed(self.random_seed)\n",
    "        np.random.shuffle(users)\n",
    "\n",
    "        fold_sizes = np.full(self.n_folds, num_users // self.n_folds, dtype=int)\n",
    "        fold_sizes[: num_users % self.n_folds] += 1\n",
    "        current = 0\n",
    "\n",
    "        for fold_size in fold_sizes:\n",
    "            start, stop = current, current + fold_size\n",
    "            test_fold_users = users[start:stop]\n",
    "            # Для тестовой части берутся первые p взаимодействий пользователей, \n",
    "            # попавших в тестовую часть фолда\n",
    "            test_mask = (df.user.isin(test_fold_users)) & (df.order < self.p)\n",
    "            # Для тренировочной части берутся все взаимодействия пользователей, \n",
    "            # не попавших в тестовую часть фолда\n",
    "            train_mask = ~df.user.isin(test_fold_users)\n",
    "            \n",
    "            yield train_mask, test_mask"
   ]
  },
  {
   "cell_type": "code",
   "execution_count": 18,
   "metadata": {
    "colab": {
     "base_uri": "https://localhost:8080/"
    },
    "id": "OWt-qSrb28Ah",
    "outputId": "17e92954-8804-4fe2-c510-ac656e6c464d"
   },
   "outputs": [
    {
     "name": "stdout",
     "output_type": "stream",
     "text": [
      "Fold#0 | Train: 97913558, Test: 241667\n",
      "Fold#1 | Train: 97913617, Test: 241666\n",
      "Fold#2 | Train: 97913617, Test: 241666\n",
      "Fold#3 | Train: 97913617, Test: 241666\n",
      "Fold#4 | Train: 97913617, Test: 241666\n",
      "Fold#5 | Train: 97913617, Test: 241666\n"
     ]
    }
   ],
   "source": [
    "# используем наш класс\n",
    "cv = UsersKFoldPOut(n_folds=6, p=1)\n",
    "\n",
    "for i, (train_mask, test_mask) in enumerate(cv.split(df)):\n",
    "    train = df[train_mask]\n",
    "    test = df[test_mask]\n",
    "    print(f'Fold#{i} | Train: {train.shape[0]}, Test: {test.shape[0]}')"
   ]
  },
  {
   "cell_type": "code",
   "execution_count": null,
   "metadata": {},
   "outputs": [],
   "source": []
  }
 ],
 "metadata": {
  "accelerator": "GPU",
  "colab": {
   "provenance": []
  },
  "gpuClass": "standard",
  "kernelspec": {
   "display_name": "Python 3 (ipykernel)",
   "language": "python",
   "name": "python3"
  },
  "language_info": {
   "codemirror_mode": {
    "name": "ipython",
    "version": 3
   },
   "file_extension": ".py",
   "mimetype": "text/x-python",
   "name": "python",
   "nbconvert_exporter": "python",
   "pygments_lexer": "ipython3",
   "version": "3.9.13"
  }
 },
 "nbformat": 4,
 "nbformat_minor": 1
}
