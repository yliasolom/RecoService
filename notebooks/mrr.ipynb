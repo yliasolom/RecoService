{
 "cells": [
  {
   "cell_type": "markdown",
   "id": "lI-_4H8IoS3F",
   "metadata": {
    "id": "lI-_4H8IoS3F"
   },
   "source": [
    "# HW №2.3"
   ]
  },
  {
   "cell_type": "markdown",
   "id": "-uyA0TOvoXJZ",
   "metadata": {
    "id": "-uyA0TOvoXJZ"
   },
   "source": [
    "Исходные данные - из функции `generate_subsample`\n",
    "\n",
    "Задача - как и с `precision` написать три версии функции подсчета `Mean Reciprocal Rank` (`naive`, `numba`, `pandas`) и потестить на разных размерах выборки\n",
    "\n",
    "для всех комбинаций (`users_count`, `top_k`):\n",
    "*   `users_count` – `[100, 1000, 10000, 100000]`\n",
    "*    `top_k` – `[10, 50, 100]`\n",
    "\n",
    "Результат - график:\n",
    "* Алгоритм – `naive`, `numba`, `pandas`\n",
    "* Скорость\n",
    "* `users_count`\n",
    "* `top_k`"
   ]
  },
  {
   "cell_type": "code",
   "execution_count": 2,
   "id": "KXcRr9lgpsep",
   "metadata": {
    "id": "KXcRr9lgpsep"
   },
   "outputs": [],
   "source": [
    "import pandas as pd\n",
    "import numpy as np\n",
    "import numba as nb\n",
    "import matplotlib.pyplot as plt\n",
    "\n",
    "import time\n",
    "\n",
    "from tqdm.auto import tqdm\n",
    "from rectools import Columns"
   ]
  },
  {
   "cell_type": "code",
   "execution_count": 3,
   "id": "V2Mq6Z49qVLY",
   "metadata": {
    "id": "V2Mq6Z49qVLY"
   },
   "outputs": [],
   "source": [
    "np.random.seed(2023)"
   ]
  },
  {
   "cell_type": "code",
   "execution_count": 4,
   "id": "HkhmydLpqcVA",
   "metadata": {
    "colab": {
     "base_uri": "https://localhost:8080/"
    },
    "id": "HkhmydLpqcVA",
    "outputId": "f3faf6f8-8c1b-437e-966d-f4b29f575a15"
   },
   "outputs": [
    {
     "name": "stdout",
     "output_type": "stream",
     "text": [
      "--2023-03-31 22:25:15--  https://storage.yandexcloud.net/itmo-recsys-public-data/kion_train.zip\n",
      "Resolving storage.yandexcloud.net (storage.yandexcloud.net)... 213.180.193.243\n",
      "Connecting to storage.yandexcloud.net (storage.yandexcloud.net)|213.180.193.243|:443... connected.\n",
      "HTTP request sent, awaiting response... 200 OK\n",
      "Length: 78795385 (75M) [application/zip]\n",
      "Saving to: 'kion_train.zip'\n",
      "\n",
      "kion_train.zip      100%[===================>]  75.14M  6.27MB/s    in 11s     \n",
      "\n",
      "2023-03-31 22:25:26 (6.65 MB/s) - 'kion_train.zip' saved [78795385/78795385]\n",
      "\n"
     ]
    }
   ],
   "source": [
    "!wget https://storage.yandexcloud.net/itmo-recsys-public-data/kion_train.zip"
   ]
  },
  {
   "cell_type": "code",
   "execution_count": 5,
   "id": "K1_qbyLusIxH",
   "metadata": {
    "colab": {
     "base_uri": "https://localhost:8080/"
    },
    "id": "K1_qbyLusIxH",
    "outputId": "26fed6a4-d814-4fa5-c516-1e2ec8b8d05a"
   },
   "outputs": [
    {
     "name": "stdout",
     "output_type": "stream",
     "text": [
      "Archive:  kion_train.zip\n",
      "   creating: kion_train/\n",
      "  inflating: kion_train/interactions.csv  \n",
      "  inflating: __MACOSX/kion_train/._interactions.csv  \n",
      "  inflating: kion_train/users.csv    \n",
      "  inflating: __MACOSX/kion_train/._users.csv  \n",
      "  inflating: kion_train/items.csv    \n",
      "  inflating: __MACOSX/kion_train/._items.csv  \n"
     ]
    }
   ],
   "source": [
    "!unzip kion_train.zip"
   ]
  },
  {
   "cell_type": "code",
   "execution_count": 6,
   "id": "RKFm2rUOqgNi",
   "metadata": {
    "id": "RKFm2rUOqgNi"
   },
   "outputs": [],
   "source": [
    "interactions = pd.read_csv('kion_train/interactions.csv')\n",
    "\n",
    "interactions.rename(\n",
    "    columns={\n",
    "        'track_id': Columns.Item,\n",
    "        'last_watch_dt': Columns.Datetime,\n",
    "        'total_dur': Columns.Weight\n",
    "    }, \n",
    "    inplace=True) \n",
    "\n",
    "interactions[Columns.Datetime] = pd.to_datetime(interactions[Columns.Datetime])"
   ]
  },
  {
   "cell_type": "code",
   "execution_count": 7,
   "id": "-rARsF6gqlql",
   "metadata": {
    "id": "-rARsF6gqlql"
   },
   "outputs": [],
   "source": [
    "users = pd.read_csv('kion_train/users.csv')\n",
    "items = pd.read_csv('kion_train/items.csv')"
   ]
  },
  {
   "cell_type": "markdown",
   "id": "tkJNQz7VuCYE",
   "metadata": {
    "id": "tkJNQz7VuCYE"
   },
   "source": [
    "## Функции чтобы сгенерить данные для расчета"
   ]
  },
  {
   "cell_type": "code",
   "execution_count": 8,
   "id": "JI_zDiL2uC_w",
   "metadata": {
    "id": "JI_zDiL2uC_w"
   },
   "outputs": [],
   "source": [
    "def generate_subsample(users_count, top_k):\n",
    "    users = np.random.choice(interactions[Columns.User].unique(), users_count, replace=False)\n",
    "    df = interactions[interactions[Columns.User].isin(users)].reset_index(drop=True)\n",
    "    del df[Columns.Datetime], df[Columns.Weight], df['watched_pct']\n",
    "    recs = np.random.choice(df[Columns.Item], size=(users_count, top_k))\n",
    "    return df, users, recs   "
   ]
  },
  {
   "cell_type": "code",
   "execution_count": 9,
   "id": "A-6pKyez1QTP",
   "metadata": {
    "id": "A-6pKyez1QTP"
   },
   "outputs": [],
   "source": [
    "def mrr_naive(df, users, recs, k):\n",
    "    mrr = []\n",
    "    for i, user in enumerate(users):\n",
    "        sum_rev_rank = 0\n",
    "        user_target = df[df[:, 0] == user][:, 1]\n",
    "        for rank, rec in enumerate(recs[i]):\n",
    "            if rec in user_target:\n",
    "                sum_rev_rank += 1 / (rank + 1)\n",
    "        mrr.append(sum_rev_rank / k)\n",
    "    return sum(mrr) / (len(users))"
   ]
  },
  {
   "cell_type": "code",
   "execution_count": 10,
   "id": "4GI2PAsJ3SlA",
   "metadata": {
    "id": "4GI2PAsJ3SlA"
   },
   "outputs": [],
   "source": [
    "@nb.njit(cache=True, parallel=True)\n",
    "def mrr_numba(target, users, recs, k):\n",
    "    mrr = np.zeros(len(users))\n",
    "    for i in nb.prange(len(users)):\n",
    "        user = users[i]\n",
    "        sum_rev_rank = 0\n",
    "        user_target = target[target[:, 0] == user][:, 1]\n",
    "        for rank in nb.prange(len(recs[i])):\n",
    "            if recs[i][rank] in user_target:\n",
    "                sum_rev_rank += 1 / (rank + 1)\n",
    "        mrr[i] = sum_rev_rank / k\n",
    "    return mrr.mean()"
   ]
  },
  {
   "cell_type": "code",
   "execution_count": 11,
   "id": "2yKOh-nTuthJ",
   "metadata": {
    "id": "2yKOh-nTuthJ"
   },
   "outputs": [],
   "source": [
    "def mrr_pandas(df, users, recs, k):\n",
    "    df_recs = pd.DataFrame({\n",
    "        Columns.User: np.repeat(users, k),\n",
    "        Columns.Item: recs.ravel()\n",
    "    })\n",
    "    df_recs[Columns.Rank] = df_recs.groupby(Columns.User).cumcount() + 1\n",
    "    df_recs = df.merge(df_recs, how='left', left_on=Columns.UserItem, right_on=Columns.UserItem)\n",
    "    df_recs['1/rank'] = 1 / df_recs[Columns.Rank]\n",
    "    mrr = df_recs['1/rank'].sum() / (k * len(users))\n",
    "    return mrr"
   ]
  },
  {
   "cell_type": "markdown",
   "id": "fme1Utfc-5Sf",
   "metadata": {
    "id": "fme1Utfc-5Sf"
   },
   "source": [
    "## Считаем метрики"
   ]
  },
  {
   "cell_type": "code",
   "execution_count": 12,
   "id": "wccr-aR--_oY",
   "metadata": {
    "id": "wccr-aR--_oY"
   },
   "outputs": [],
   "source": [
    "top_k = 10\n",
    "users_count = 1000"
   ]
  },
  {
   "cell_type": "code",
   "execution_count": 13,
   "id": "qJIVU2ed_DfY",
   "metadata": {
    "id": "qJIVU2ed_DfY"
   },
   "outputs": [],
   "source": [
    "df, users, recs = generate_subsample(users_count, top_k)\n",
    "target = df.values"
   ]
  },
  {
   "cell_type": "code",
   "execution_count": 14,
   "id": "f8cQLpyN_bqz",
   "metadata": {
    "colab": {
     "base_uri": "https://localhost:8080/",
     "height": 276
    },
    "id": "f8cQLpyN_bqz",
    "outputId": "a1b0006a-ab2f-4da7-d2b8-0c272df5e0db"
   },
   "outputs": [
    {
     "data": {
      "text/plain": [
       "0.009475992063492056"
      ]
     },
     "execution_count": 14,
     "metadata": {},
     "output_type": "execute_result"
    }
   ],
   "source": [
    "mrr_naive(df, users, recs, top_k)"
   ]
  },
  {
   "cell_type": "code",
   "execution_count": 15,
   "id": "bQrf8-VFG7Ey",
   "metadata": {
    "colab": {
     "base_uri": "https://localhost:8080/"
    },
    "id": "bQrf8-VFG7Ey",
    "outputId": "c9b695bd-690d-4878-8c51-117289df44f1"
   },
   "outputs": [
    {
     "data": {
      "text/plain": [
       "0.009475992063492061"
      ]
     },
     "execution_count": 15,
     "metadata": {},
     "output_type": "execute_result"
    }
   ],
   "source": [
    "mrr_numba(target, users, recs, top_k)"
   ]
  },
  {
   "cell_type": "code",
   "execution_count": 16,
   "id": "OtJizwFtHYuG",
   "metadata": {
    "colab": {
     "base_uri": "https://localhost:8080/"
    },
    "id": "OtJizwFtHYuG",
    "outputId": "82b61fce-45df-4a11-f954-961b2eed7864"
   },
   "outputs": [
    {
     "data": {
      "text/plain": [
       "0.009475992063492063"
      ]
     },
     "execution_count": 16,
     "metadata": {},
     "output_type": "execute_result"
    }
   ],
   "source": [
    "mrr_pandas(df, users, recs, top_k)"
   ]
  },
  {
   "cell_type": "markdown",
   "id": "a84b182a",
   "metadata": {},
   "source": [
    "Ок, значения MRR в каждом из трех методов одинаковые, теперь посмотрим какой метод справляется быстрее с задачей"
   ]
  },
  {
   "cell_type": "markdown",
   "id": "v39GOeXO4ZCm",
   "metadata": {
    "id": "v39GOeXO4ZCm"
   },
   "source": [
    "## Генерируем данные для разных users_count и k_top\n",
    "### Используем различные методы для подчета метрики"
   ]
  },
  {
   "cell_type": "code",
   "execution_count": 17,
   "id": "AVGMLfo44hAm",
   "metadata": {
    "colab": {
     "base_uri": "https://localhost:8080/",
     "height": 788,
     "referenced_widgets": [
      "35d2e1f81bc14755b14552aa716748ce",
      "558917df3a424458adaeb479c3511d06",
      "7c06d4b6492c4b0585b044cb8e68c3cc",
      "f4fd00d2be974fb4b4e656f736b7c086",
      "9d7af02f1e1b4bf1875d9d26eaac4ca8",
      "f767ce3869834141b67b393b5bc3d124",
      "75309e18c3be41839906d977b96cf5e7",
      "8c4580ce7ef54ec3b8cda3698606b4bc",
      "4f43bbb9ccb9432aa1b27fdd1de0c9a3",
      "d771722f68724bfe8891a13f938588e1",
      "c866327388da4fe7867a587ee80ecbc9",
      "7b4cbda4c3b94e74ab1a1764cde25911",
      "ecb01f54d15e40beb40e4df584859db6",
      "b90a58a6f78648ca9ab4ac31dc1f4182",
      "b5ceab9f4c71482b8e97a9698f655961",
      "0da57a205abd404d8f3d005bf8d9ac38",
      "1294b584231340b6a5a201be70f3ad02",
      "8419627a09bc4568b9fcfa3900933268",
      "26c807318a0d489c853898a5b10b843a",
      "92f82244f4754c63a8ce9636ee1465a3",
      "f860da20801d46048c74b20fda88ab86",
      "8008f03f4885429b91fc7be7cb6684c9",
      "980b7e5bc0274ee28d80674d69066e1a",
      "25b2bbb406d74d418c90b756520e2908",
      "325e1a58a24f4d85925c68b2e5842d6d",
      "55ad3943ebc1434c945e511698d4a931",
      "c857bad86ece492c8cc22755003b49b3",
      "e56c6cc15a6c4170a5b61a297c79da2f",
      "719494b5cb534cd3a2103ae5a9b935c6",
      "29ef702317dd4b8191405ea6a28a7018",
      "62beece6762d4a38b17816245cfb6a95",
      "6a07fcda10834080905992ca9edbdac5",
      "00c2a9473f9742ccbd8a0e00c83aced2",
      "56c17dd424a24c6e9da319f60d332672",
      "633d35e4230f49328e2a500cfba63b9e",
      "8f091b4095924f7ea5afd5c41e9e32c3",
      "2bc882d0558741af93034c508696d40a",
      "591c0a67727949fd8a2995ccbed033f3",
      "5e79940407ba47dd9e63a336e336bebb",
      "428860ddf8d54862a38286540414bd71",
      "a1ced32f9b884757be081c9d1ae83541",
      "8a849ae6a6f347c288e8f7bc71fcdc02",
      "808009cef86f4497a89d06c99a0c6a2d",
      "71d8d23cb7d64eea9b5e57db19ba7d2e"
     ]
    },
    "id": "AVGMLfo44hAm",
    "outputId": "9836c053-2b3f-466d-8ed4-24a078d6d5f0"
   },
   "outputs": [
    {
     "data": {
      "application/vnd.jupyter.widget-view+json": {
       "model_id": "7a26be4bf94644ec9e09b7b8a4d78242",
       "version_major": 2,
       "version_minor": 0
      },
      "text/plain": [
       "  0%|          | 0/3 [00:00<?, ?it/s]"
      ]
     },
     "metadata": {},
     "output_type": "display_data"
    },
    {
     "data": {
      "application/vnd.jupyter.widget-view+json": {
       "model_id": "be660b45fc77408f82b09ae49cd22646",
       "version_major": 2,
       "version_minor": 0
      },
      "text/plain": [
       "  0%|          | 0/4 [00:00<?, ?it/s]"
      ]
     },
     "metadata": {},
     "output_type": "display_data"
    },
    {
     "name": "stdout",
     "output_type": "stream",
     "text": [
      "MRR for top-10 and 100 users --- naive\n",
      "MRR for top-10 and 100 users --- numba\n",
      "MRR for top-10 and 100 users --- pandas\n",
      "MRR for top-10 and 1000 users --- naive\n",
      "MRR for top-10 and 1000 users --- numba\n",
      "MRR for top-10 and 1000 users --- pandas\n",
      "MRR for top-10 and 10000 users --- naive\n",
      "MRR for top-10 and 10000 users --- numba\n",
      "MRR for top-10 and 10000 users --- pandas\n",
      "MRR for top-10 and 100000 users --- naive\n",
      "MRR for top-10 and 100000 users --- numba\n",
      "MRR for top-10 and 100000 users --- pandas\n"
     ]
    },
    {
     "data": {
      "application/vnd.jupyter.widget-view+json": {
       "model_id": "cbd2cc1c70e249b4a9d562ca33f77c83",
       "version_major": 2,
       "version_minor": 0
      },
      "text/plain": [
       "  0%|          | 0/4 [00:00<?, ?it/s]"
      ]
     },
     "metadata": {},
     "output_type": "display_data"
    },
    {
     "name": "stdout",
     "output_type": "stream",
     "text": [
      "MRR for top-50 and 100 users --- naive\n",
      "MRR for top-50 and 100 users --- numba\n",
      "MRR for top-50 and 100 users --- pandas\n",
      "MRR for top-50 and 1000 users --- naive\n",
      "MRR for top-50 and 1000 users --- numba\n",
      "MRR for top-50 and 1000 users --- pandas\n",
      "MRR for top-50 and 10000 users --- naive\n",
      "MRR for top-50 and 10000 users --- numba\n",
      "MRR for top-50 and 10000 users --- pandas\n",
      "MRR for top-50 and 100000 users --- naive\n",
      "MRR for top-50 and 100000 users --- numba\n",
      "MRR for top-50 and 100000 users --- pandas\n"
     ]
    },
    {
     "data": {
      "application/vnd.jupyter.widget-view+json": {
       "model_id": "0656d9da051e419ab2d4e13091988d17",
       "version_major": 2,
       "version_minor": 0
      },
      "text/plain": [
       "  0%|          | 0/4 [00:00<?, ?it/s]"
      ]
     },
     "metadata": {},
     "output_type": "display_data"
    },
    {
     "name": "stdout",
     "output_type": "stream",
     "text": [
      "MRR for top-100 and 100 users --- naive\n",
      "MRR for top-100 and 100 users --- numba\n",
      "MRR for top-100 and 100 users --- pandas\n",
      "MRR for top-100 and 1000 users --- naive\n",
      "MRR for top-100 and 1000 users --- numba\n",
      "MRR for top-100 and 1000 users --- pandas\n",
      "MRR for top-100 and 10000 users --- naive\n",
      "MRR for top-100 and 10000 users --- numba\n",
      "MRR for top-100 and 10000 users --- pandas\n",
      "MRR for top-100 and 100000 users --- naive\n",
      "MRR for top-100 and 100000 users --- numba\n",
      "MRR for top-100 and 100000 users --- pandas\n"
     ]
    }
   ],
   "source": [
    "users_count = [100, 1000, 10000, 100000]\n",
    "top_k = [10, 50, 100]\n",
    "\n",
    "time_naive = []\n",
    "time_numba = []\n",
    "time_pandas = []\n",
    "\n",
    "for k in tqdm(top_k):\n",
    "    for user in tqdm(users_count):\n",
    "        df, users, recs = generate_subsample(user, k)\n",
    "        target = df.values\n",
    "\n",
    "        # naive-метода для MRR \n",
    "        print(f'MRR for top-{k} and {user} users --- naive')\n",
    "        start_time = time.time()\n",
    "        mrr_naive(target, users, recs, k)\n",
    "        time_naive.append(time.time() - start_time)\n",
    " \n",
    "        #  время numba-метода для MRR\n",
    "        print(f'MRR for top-{k} and {user} users --- numba')\n",
    "        start_time = time.time()\n",
    "        mrr_numba(target, users, recs, k)\n",
    "        time_numba.append(time.time() - start_time)\n",
    " \n",
    "        # время pandas-метода для MRR\n",
    "        print(f'MRR for top-{k} and {user} users --- pandas')\n",
    "        start_time = time.time()\n",
    "        mrr_pandas(df, users, recs, k)\n",
    "        time_pandas.append(time.time() - start_time)"
   ]
  },
  {
   "cell_type": "code",
   "execution_count": 18,
   "id": "mEETz8lFP6rD",
   "metadata": {
    "id": "mEETz8lFP6rD"
   },
   "outputs": [],
   "source": [
    "time_naive = np.array(time_naive).reshape(3, 4)\n",
    "time_numba = np.array(time_numba).reshape(3, 4)\n",
    "time_pandas = np.array(time_pandas).reshape(3, 4)"
   ]
  },
  {
   "cell_type": "code",
   "execution_count": 19,
   "id": "ymUrw5chL9QE",
   "metadata": {
    "colab": {
     "base_uri": "https://localhost:8080/",
     "height": 399
    },
    "id": "ymUrw5chL9QE",
    "outputId": "49ccc26b-2895-4942-f8b3-e7396e9af4b3"
   },
   "outputs": [
    {
     "data": {
      "image/png": "[encoded data removed]",
      "text/plain": [
       "<Figure size 2000x500 with 3 Axes>"
      ]
     },
     "metadata": {},
     "output_type": "display_data"
    }
   ],
   "source": [
    "_, ax = plt.subplots(1, 3, figsize=(20,5))\n",
    "for i in range(3):\n",
    "    # для каждого k_top и метода - график users–time  \n",
    "    ax[i].plot(users_count, time_naive[i,:], label='Naive')\n",
    "    ax[i].plot(users_count, time_numba[i,:], label='Numba')\n",
    "    ax[i].plot(users_count, time_pandas[i,:], label='Pandas')\n",
    "    \n",
    "    ax[i].set_title(f'top_k {top_k[i]}')\n",
    "    ax[i].set_xlabel('users')\n",
    "    ax[i].set_ylabel('time (s)')\n",
    "    ax[i].set_xlim(0, 100000)\n",
    "    ax[i].set_ylim(0, 10)\n",
    "    ax[i].grid()\n",
    "    ax[i].legend()\n",
    "plt.show()"
   ]
  },
  {
   "cell_type": "markdown",
   "id": "qVPKiX4ualMU",
   "metadata": {
    "id": "qVPKiX4ualMU"
   },
   "source": [
    "Метод `pandas` работает чуть быстрее других (`naive`, `numba`). Он работает быстрее вообще при любых `k_top` и `users_count`"
   ]
  },
  {
   "cell_type": "markdown",
   "id": "1bb55490",
   "metadata": {},
   "source": []
  }
 ],
 "metadata": {
  "colab": {
   "provenance": []
  },
  "kernelspec": {
   "display_name": "Python 3 (ipykernel)",
   "language": "python",
   "name": "python3"
  },
  "language_info": {
   "codemirror_mode": {
    "name": "ipython",
    "version": 3
   },
   "file_extension": ".py",
   "mimetype": "text/x-python",
   "name": "python",
   "nbconvert_exporter": "python",
   "pygments_lexer": "ipython3",
   "version": "3.9.13"
  },
  "widgets": {
   "application/vnd.jupyter.widget-state+json": {
    "00c2a9473f9742ccbd8a0e00c83aced2": {
     "model_module": "@jupyter-widgets/controls",
     "model_module_version": "1.5.0",
     "model_name": "DescriptionStyleModel",
     "state": {
      "_model_module": "@jupyter-widgets/controls",
      "_model_module_version": "1.5.0",
      "_model_name": "DescriptionStyleModel",
      "_view_count": null,
      "_view_module": "@jupyter-widgets/base",
      "_view_module_version": "1.2.0",
      "_view_name": "StyleView",
      "description_width": ""
     }
    },
    "0da57a205abd404d8f3d005bf8d9ac38": {
     "model_module": "@jupyter-widgets/base",
     "model_module_version": "1.2.0",
     "model_name": "LayoutModel",
     "state": {
      "_model_module": "@jupyter-widgets/base",
      "_model_module_version": "1.2.0",
      "_model_name": "LayoutModel",
      "_view_count": null,
      "_view_module": "@jupyter-widgets/base",
      "_view_module_version": "1.2.0",
      "_view_name": "LayoutView",
      "align_content": null,
      "align_items": null,
      "align_self": null,
      "border": null,
      "bottom": null,
      "display": null,
      "flex": null,
      "flex_flow": null,
      "grid_area": null,
      "grid_auto_columns": null,
      "grid_auto_flow": null,
      "grid_auto_rows": null,
      "grid_column": null,
      "grid_gap": null,
      "grid_row": null,
      "grid_template_areas": null,
      "grid_template_columns": null,
      "grid_template_rows": null,
      "height": null,
      "justify_content": null,
      "justify_items": null,
      "left": null,
      "margin": null,
      "max_height": null,
      "max_width": null,
      "min_height": null,
      "min_width": null,
      "object_fit": null,
      "object_position": null,
      "order": null,
      "overflow": null,
      "overflow_x": null,
      "overflow_y": null,
      "padding": null,
      "right": null,
      "top": null,
      "visibility": null,
      "width": null
     }
    },
    "1294b584231340b6a5a201be70f3ad02": {
     "model_module": "@jupyter-widgets/base",
     "model_module_version": "1.2.0",
     "model_name": "LayoutModel",
     "state": {
      "_model_module": "@jupyter-widgets/base",
      "_model_module_version": "1.2.0",
      "_model_name": "LayoutModel",
      "_view_count": null,
      "_view_module": "@jupyter-widgets/base",
      "_view_module_version": "1.2.0",
      "_view_name": "LayoutView",
      "align_content": null,
      "align_items": null,
      "align_self": null,
      "border": null,
      "bottom": null,
      "display": null,
      "flex": null,
      "flex_flow": null,
      "grid_area": null,
      "grid_auto_columns": null,
      "grid_auto_flow": null,
      "grid_auto_rows": null,
      "grid_column": null,
      "grid_gap": null,
      "grid_row": null,
      "grid_template_areas": null,
      "grid_template_columns": null,
      "grid_template_rows": null,
      "height": null,
      "justify_content": null,
      "justify_items": null,
      "left": null,
      "margin": null,
      "max_height": null,
      "max_width": null,
      "min_height": null,
      "min_width": null,
      "object_fit": null,
      "object_position": null,
      "order": null,
      "overflow": null,
      "overflow_x": null,
      "overflow_y": null,
      "padding": null,
      "right": null,
      "top": null,
      "visibility": null,
      "width": null
     }
    },
    "25b2bbb406d74d418c90b756520e2908": {
     "model_module": "@jupyter-widgets/controls",
     "model_module_version": "1.5.0",
     "model_name": "HTMLModel",
     "state": {
      "_dom_classes": [],
      "_model_module": "@jupyter-widgets/controls",
      "_model_module_version": "1.5.0",
      "_model_name": "HTMLModel",
      "_view_count": null,
      "_view_module": "@jupyter-widgets/controls",
      "_view_module_version": "1.5.0",
      "_view_name": "HTMLView",
      "description": "",
      "description_tooltip": null,
      "layout": "IPY_MODEL_e56c6cc15a6c4170a5b61a297c79da2f",
      "placeholder": "​",
      "style": "IPY_MODEL_719494b5cb534cd3a2103ae5a9b935c6",
      "value": "100%"
     }
    },
    "26c807318a0d489c853898a5b10b843a": {
     "model_module": "@jupyter-widgets/base",
     "model_module_version": "1.2.0",
     "model_name": "LayoutModel",
     "state": {
      "_model_module": "@jupyter-widgets/base",
      "_model_module_version": "1.2.0",
      "_model_name": "LayoutModel",
      "_view_count": null,
      "_view_module": "@jupyter-widgets/base",
      "_view_module_version": "1.2.0",
      "_view_name": "LayoutView",
      "align_content": null,
      "align_items": null,
      "align_self": null,
      "border": null,
      "bottom": null,
      "display": null,
      "flex": null,
      "flex_flow": null,
      "grid_area": null,
      "grid_auto_columns": null,
      "grid_auto_flow": null,
      "grid_auto_rows": null,
      "grid_column": null,
      "grid_gap": null,
      "grid_row": null,
      "grid_template_areas": null,
      "grid_template_columns": null,
      "grid_template_rows": null,
      "height": null,
      "justify_content": null,
      "justify_items": null,
      "left": null,
      "margin": null,
      "max_height": null,
      "max_width": null,
      "min_height": null,
      "min_width": null,
      "object_fit": null,
      "object_position": null,
      "order": null,
      "overflow": null,
      "overflow_x": null,
      "overflow_y": null,
      "padding": null,
      "right": null,
      "top": null,
      "visibility": null,
      "width": null
     }
    },
    "29ef702317dd4b8191405ea6a28a7018": {
     "model_module": "@jupyter-widgets/base",
     "model_module_version": "1.2.0",
     "model_name": "LayoutModel",
     "state": {
      "_model_module": "@jupyter-widgets/base",
      "_model_module_version": "1.2.0",
      "_model_name": "LayoutModel",
      "_view_count": null,
      "_view_module": "@jupyter-widgets/base",
      "_view_module_version": "1.2.0",
      "_view_name": "LayoutView",
      "align_content": null,
      "align_items": null,
      "align_self": null,
      "border": null,
      "bottom": null,
      "display": null,
      "flex": null,
      "flex_flow": null,
      "grid_area": null,
      "grid_auto_columns": null,
      "grid_auto_flow": null,
      "grid_auto_rows": null,
      "grid_column": null,
      "grid_gap": null,
      "grid_row": null,
      "grid_template_areas": null,
      "grid_template_columns": null,
      "grid_template_rows": null,
      "height": null,
      "justify_content": null,
      "justify_items": null,
      "left": null,
      "margin": null,
      "max_height": null,
      "max_width": null,
      "min_height": null,
      "min_width": null,
      "object_fit": null,
      "object_position": null,
      "order": null,
      "overflow": null,
      "overflow_x": null,
      "overflow_y": null,
      "padding": null,
      "right": null,
      "top": null,
      "visibility": null,
      "width": null
     }
    },
    "2bc882d0558741af93034c508696d40a": {
     "model_module": "@jupyter-widgets/controls",
     "model_module_version": "1.5.0",
     "model_name": "HTMLModel",
     "state": {
      "_dom_classes": [],
      "_model_module": "@jupyter-widgets/controls",
      "_model_module_version": "1.5.0",
      "_model_name": "HTMLModel",
      "_view_count": null,
      "_view_module": "@jupyter-widgets/controls",
      "_view_module_version": "1.5.0",
      "_view_name": "HTMLView",
      "description": "",
      "description_tooltip": null,
      "layout": "IPY_MODEL_808009cef86f4497a89d06c99a0c6a2d",
      "placeholder": "​",
      "style": "IPY_MODEL_71d8d23cb7d64eea9b5e57db19ba7d2e",
      "value": " 4/4 [06:16&lt;00:00, 147.49s/it]"
     }
    },
    "325e1a58a24f4d85925c68b2e5842d6d": {
     "model_module": "@jupyter-widgets/controls",
     "model_module_version": "1.5.0",
     "model_name": "FloatProgressModel",
     "state": {
      "_dom_classes": [],
      "_model_module": "@jupyter-widgets/controls",
      "_model_module_version": "1.5.0",
      "_model_name": "FloatProgressModel",
      "_view_count": null,
      "_view_module": "@jupyter-widgets/controls",
      "_view_module_version": "1.5.0",
      "_view_name": "ProgressView",
      "bar_style": "success",
      "description": "",
      "description_tooltip": null,
      "layout": "IPY_MODEL_29ef702317dd4b8191405ea6a28a7018",
      "max": 4,
      "min": 0,
      "orientation": "horizontal",
      "style": "IPY_MODEL_62beece6762d4a38b17816245cfb6a95",
      "value": 4
     }
    },
    "35d2e1f81bc14755b14552aa716748ce": {
     "model_module": "@jupyter-widgets/controls",
     "model_module_version": "1.5.0",
     "model_name": "HBoxModel",
     "state": {
      "_dom_classes": [],
      "_model_module": "@jupyter-widgets/controls",
      "_model_module_version": "1.5.0",
      "_model_name": "HBoxModel",
      "_view_count": null,
      "_view_module": "@jupyter-widgets/controls",
      "_view_module_version": "1.5.0",
      "_view_name": "HBoxView",
      "box_style": "",
      "children": [
       "IPY_MODEL_558917df3a424458adaeb479c3511d06",
       "IPY_MODEL_7c06d4b6492c4b0585b044cb8e68c3cc",
       "IPY_MODEL_f4fd00d2be974fb4b4e656f736b7c086"
      ],
      "layout": "IPY_MODEL_9d7af02f1e1b4bf1875d9d26eaac4ca8"
     }
    },
    "428860ddf8d54862a38286540414bd71": {
     "model_module": "@jupyter-widgets/controls",
     "model_module_version": "1.5.0",
     "model_name": "DescriptionStyleModel",
     "state": {
      "_model_module": "@jupyter-widgets/controls",
      "_model_module_version": "1.5.0",
      "_model_name": "DescriptionStyleModel",
      "_view_count": null,
      "_view_module": "@jupyter-widgets/base",
      "_view_module_version": "1.2.0",
      "_view_name": "StyleView",
      "description_width": ""
     }
    },
    "4f43bbb9ccb9432aa1b27fdd1de0c9a3": {
     "model_module": "@jupyter-widgets/controls",
     "model_module_version": "1.5.0",
     "model_name": "ProgressStyleModel",
     "state": {
      "_model_module": "@jupyter-widgets/controls",
      "_model_module_version": "1.5.0",
      "_model_name": "ProgressStyleModel",
      "_view_count": null,
      "_view_module": "@jupyter-widgets/base",
      "_view_module_version": "1.2.0",
      "_view_name": "StyleView",
      "bar_color": null,
      "description_width": ""
     }
    },
    "558917df3a424458adaeb479c3511d06": {
     "model_module": "@jupyter-widgets/controls",
     "model_module_version": "1.5.0",
     "model_name": "HTMLModel",
     "state": {
      "_dom_classes": [],
      "_model_module": "@jupyter-widgets/controls",
      "_model_module_version": "1.5.0",
      "_model_name": "HTMLModel",
      "_view_count": null,
      "_view_module": "@jupyter-widgets/controls",
      "_view_module_version": "1.5.0",
      "_view_name": "HTMLView",
      "description": "",
      "description_tooltip": null,
      "layout": "IPY_MODEL_f767ce3869834141b67b393b5bc3d124",
      "placeholder": "​",
      "style": "IPY_MODEL_75309e18c3be41839906d977b96cf5e7",
      "value": "100%"
     }
    },
    "55ad3943ebc1434c945e511698d4a931": {
     "model_module": "@jupyter-widgets/controls",
     "model_module_version": "1.5.0",
     "model_name": "HTMLModel",
     "state": {
      "_dom_classes": [],
      "_model_module": "@jupyter-widgets/controls",
      "_model_module_version": "1.5.0",
      "_model_name": "HTMLModel",
      "_view_count": null,
      "_view_module": "@jupyter-widgets/controls",
      "_view_module_version": "1.5.0",
      "_view_name": "HTMLView",
      "description": "",
      "description_tooltip": null,
      "layout": "IPY_MODEL_6a07fcda10834080905992ca9edbdac5",
      "placeholder": "​",
      "style": "IPY_MODEL_00c2a9473f9742ccbd8a0e00c83aced2",
      "value": " 4/4 [05:47&lt;00:00, 136.03s/it]"
     }
    },
    "56c17dd424a24c6e9da319f60d332672": {
     "model_module": "@jupyter-widgets/controls",
     "model_module_version": "1.5.0",
     "model_name": "HBoxModel",
     "state": {
      "_dom_classes": [],
      "_model_module": "@jupyter-widgets/controls",
      "_model_module_version": "1.5.0",
      "_model_name": "HBoxModel",
      "_view_count": null,
      "_view_module": "@jupyter-widgets/controls",
      "_view_module_version": "1.5.0",
      "_view_name": "HBoxView",
      "box_style": "",
      "children": [
       "IPY_MODEL_633d35e4230f49328e2a500cfba63b9e",
       "IPY_MODEL_8f091b4095924f7ea5afd5c41e9e32c3",
       "IPY_MODEL_2bc882d0558741af93034c508696d40a"
      ],
      "layout": "IPY_MODEL_591c0a67727949fd8a2995ccbed033f3"
     }
    },
    "591c0a67727949fd8a2995ccbed033f3": {
     "model_module": "@jupyter-widgets/base",
     "model_module_version": "1.2.0",
     "model_name": "LayoutModel",
     "state": {
      "_model_module": "@jupyter-widgets/base",
      "_model_module_version": "1.2.0",
      "_model_name": "LayoutModel",
      "_view_count": null,
      "_view_module": "@jupyter-widgets/base",
      "_view_module_version": "1.2.0",
      "_view_name": "LayoutView",
      "align_content": null,
      "align_items": null,
      "align_self": null,
      "border": null,
      "bottom": null,
      "display": null,
      "flex": null,
      "flex_flow": null,
      "grid_area": null,
      "grid_auto_columns": null,
      "grid_auto_flow": null,
      "grid_auto_rows": null,
      "grid_column": null,
      "grid_gap": null,
      "grid_row": null,
      "grid_template_areas": null,
      "grid_template_columns": null,
      "grid_template_rows": null,
      "height": null,
      "justify_content": null,
      "justify_items": null,
      "left": null,
      "margin": null,
      "max_height": null,
      "max_width": null,
      "min_height": null,
      "min_width": null,
      "object_fit": null,
      "object_position": null,
      "order": null,
      "overflow": null,
      "overflow_x": null,
      "overflow_y": null,
      "padding": null,
      "right": null,
      "top": null,
      "visibility": null,
      "width": null
     }
    },
    "5e79940407ba47dd9e63a336e336bebb": {
     "model_module": "@jupyter-widgets/base",
     "model_module_version": "1.2.0",
     "model_name": "LayoutModel",
     "state": {
      "_model_module": "@jupyter-widgets/base",
      "_model_module_version": "1.2.0",
      "_model_name": "LayoutModel",
      "_view_count": null,
      "_view_module": "@jupyter-widgets/base",
      "_view_module_version": "1.2.0",
      "_view_name": "LayoutView",
      "align_content": null,
      "align_items": null,
      "align_self": null,
      "border": null,
      "bottom": null,
      "display": null,
      "flex": null,
      "flex_flow": null,
      "grid_area": null,
      "grid_auto_columns": null,
      "grid_auto_flow": null,
      "grid_auto_rows": null,
      "grid_column": null,
      "grid_gap": null,
      "grid_row": null,
      "grid_template_areas": null,
      "grid_template_columns": null,
      "grid_template_rows": null,
      "height": null,
      "justify_content": null,
      "justify_items": null,
      "left": null,
      "margin": null,
      "max_height": null,
      "max_width": null,
      "min_height": null,
      "min_width": null,
      "object_fit": null,
      "object_position": null,
      "order": null,
      "overflow": null,
      "overflow_x": null,
      "overflow_y": null,
      "padding": null,
      "right": null,
      "top": null,
      "visibility": null,
      "width": null
     }
    },
    "62beece6762d4a38b17816245cfb6a95": {
     "model_module": "@jupyter-widgets/controls",
     "model_module_version": "1.5.0",
     "model_name": "ProgressStyleModel",
     "state": {
      "_model_module": "@jupyter-widgets/controls",
      "_model_module_version": "1.5.0",
      "_model_name": "ProgressStyleModel",
      "_view_count": null,
      "_view_module": "@jupyter-widgets/base",
      "_view_module_version": "1.2.0",
      "_view_name": "StyleView",
      "bar_color": null,
      "description_width": ""
     }
    },
    "633d35e4230f49328e2a500cfba63b9e": {
     "model_module": "@jupyter-widgets/controls",
     "model_module_version": "1.5.0",
     "model_name": "HTMLModel",
     "state": {
      "_dom_classes": [],
      "_model_module": "@jupyter-widgets/controls",
      "_model_module_version": "1.5.0",
      "_model_name": "HTMLModel",
      "_view_count": null,
      "_view_module": "@jupyter-widgets/controls",
      "_view_module_version": "1.5.0",
      "_view_name": "HTMLView",
      "description": "",
      "description_tooltip": null,
      "layout": "IPY_MODEL_5e79940407ba47dd9e63a336e336bebb",
      "placeholder": "​",
      "style": "IPY_MODEL_428860ddf8d54862a38286540414bd71",
      "value": "100%"
     }
    },
    "6a07fcda10834080905992ca9edbdac5": {
     "model_module": "@jupyter-widgets/base",
     "model_module_version": "1.2.0",
     "model_name": "LayoutModel",
     "state": {
      "_model_module": "@jupyter-widgets/base",
      "_model_module_version": "1.2.0",
      "_model_name": "LayoutModel",
      "_view_count": null,
      "_view_module": "@jupyter-widgets/base",
      "_view_module_version": "1.2.0",
      "_view_name": "LayoutView",
      "align_content": null,
      "align_items": null,
      "align_self": null,
      "border": null,
      "bottom": null,
      "display": null,
      "flex": null,
      "flex_flow": null,
      "grid_area": null,
      "grid_auto_columns": null,
      "grid_auto_flow": null,
      "grid_auto_rows": null,
      "grid_column": null,
      "grid_gap": null,
      "grid_row": null,
      "grid_template_areas": null,
      "grid_template_columns": null,
      "grid_template_rows": null,
      "height": null,
      "justify_content": null,
      "justify_items": null,
      "left": null,
      "margin": null,
      "max_height": null,
      "max_width": null,
      "min_height": null,
      "min_width": null,
      "object_fit": null,
      "object_position": null,
      "order": null,
      "overflow": null,
      "overflow_x": null,
      "overflow_y": null,
      "padding": null,
      "right": null,
      "top": null,
      "visibility": null,
      "width": null
     }
    },
    "719494b5cb534cd3a2103ae5a9b935c6": {
     "model_module": "@jupyter-widgets/controls",
     "model_module_version": "1.5.0",
     "model_name": "DescriptionStyleModel",
     "state": {
      "_model_module": "@jupyter-widgets/controls",
      "_model_module_version": "1.5.0",
      "_model_name": "DescriptionStyleModel",
      "_view_count": null,
      "_view_module": "@jupyter-widgets/base",
      "_view_module_version": "1.2.0",
      "_view_name": "StyleView",
      "description_width": ""
     }
    },
    "71d8d23cb7d64eea9b5e57db19ba7d2e": {
     "model_module": "@jupyter-widgets/controls",
     "model_module_version": "1.5.0",
     "model_name": "DescriptionStyleModel",
     "state": {
      "_model_module": "@jupyter-widgets/controls",
      "_model_module_version": "1.5.0",
      "_model_name": "DescriptionStyleModel",
      "_view_count": null,
      "_view_module": "@jupyter-widgets/base",
      "_view_module_version": "1.2.0",
      "_view_name": "StyleView",
      "description_width": ""
     }
    },
    "75309e18c3be41839906d977b96cf5e7": {
     "model_module": "@jupyter-widgets/controls",
     "model_module_version": "1.5.0",
     "model_name": "DescriptionStyleModel",
     "state": {
      "_model_module": "@jupyter-widgets/controls",
      "_model_module_version": "1.5.0",
      "_model_name": "DescriptionStyleModel",
      "_view_count": null,
      "_view_module": "@jupyter-widgets/base",
      "_view_module_version": "1.2.0",
      "_view_name": "StyleView",
      "description_width": ""
     }
    },
    "7b4cbda4c3b94e74ab1a1764cde25911": {
     "model_module": "@jupyter-widgets/controls",
     "model_module_version": "1.5.0",
     "model_name": "HBoxModel",
     "state": {
      "_dom_classes": [],
      "_model_module": "@jupyter-widgets/controls",
      "_model_module_version": "1.5.0",
      "_model_name": "HBoxModel",
      "_view_count": null,
      "_view_module": "@jupyter-widgets/controls",
      "_view_module_version": "1.5.0",
      "_view_name": "HBoxView",
      "box_style": "",
      "children": [
       "IPY_MODEL_ecb01f54d15e40beb40e4df584859db6",
       "IPY_MODEL_b90a58a6f78648ca9ab4ac31dc1f4182",
       "IPY_MODEL_b5ceab9f4c71482b8e97a9698f655961"
      ],
      "layout": "IPY_MODEL_0da57a205abd404d8f3d005bf8d9ac38"
     }
    },
    "7c06d4b6492c4b0585b044cb8e68c3cc": {
     "model_module": "@jupyter-widgets/controls",
     "model_module_version": "1.5.0",
     "model_name": "FloatProgressModel",
     "state": {
      "_dom_classes": [],
      "_model_module": "@jupyter-widgets/controls",
      "_model_module_version": "1.5.0",
      "_model_name": "FloatProgressModel",
      "_view_count": null,
      "_view_module": "@jupyter-widgets/controls",
      "_view_module_version": "1.5.0",
      "_view_name": "ProgressView",
      "bar_style": "success",
      "description": "",
      "description_tooltip": null,
      "layout": "IPY_MODEL_8c4580ce7ef54ec3b8cda3698606b4bc",
      "max": 3,
      "min": 0,
      "orientation": "horizontal",
      "style": "IPY_MODEL_4f43bbb9ccb9432aa1b27fdd1de0c9a3",
      "value": 3
     }
    },
    "8008f03f4885429b91fc7be7cb6684c9": {
     "model_module": "@jupyter-widgets/controls",
     "model_module_version": "1.5.0",
     "model_name": "DescriptionStyleModel",
     "state": {
      "_model_module": "@jupyter-widgets/controls",
      "_model_module_version": "1.5.0",
      "_model_name": "DescriptionStyleModel",
      "_view_count": null,
      "_view_module": "@jupyter-widgets/base",
      "_view_module_version": "1.2.0",
      "_view_name": "StyleView",
      "description_width": ""
     }
    },
    "808009cef86f4497a89d06c99a0c6a2d": {
     "model_module": "@jupyter-widgets/base",
     "model_module_version": "1.2.0",
     "model_name": "LayoutModel",
     "state": {
      "_model_module": "@jupyter-widgets/base",
      "_model_module_version": "1.2.0",
      "_model_name": "LayoutModel",
      "_view_count": null,
      "_view_module": "@jupyter-widgets/base",
      "_view_module_version": "1.2.0",
      "_view_name": "LayoutView",
      "align_content": null,
      "align_items": null,
      "align_self": null,
      "border": null,
      "bottom": null,
      "display": null,
      "flex": null,
      "flex_flow": null,
      "grid_area": null,
      "grid_auto_columns": null,
      "grid_auto_flow": null,
      "grid_auto_rows": null,
      "grid_column": null,
      "grid_gap": null,
      "grid_row": null,
      "grid_template_areas": null,
      "grid_template_columns": null,
      "grid_template_rows": null,
      "height": null,
      "justify_content": null,
      "justify_items": null,
      "left": null,
      "margin": null,
      "max_height": null,
      "max_width": null,
      "min_height": null,
      "min_width": null,
      "object_fit": null,
      "object_position": null,
      "order": null,
      "overflow": null,
      "overflow_x": null,
      "overflow_y": null,
      "padding": null,
      "right": null,
      "top": null,
      "visibility": null,
      "width": null
     }
    },
    "8419627a09bc4568b9fcfa3900933268": {
     "model_module": "@jupyter-widgets/controls",
     "model_module_version": "1.5.0",
     "model_name": "DescriptionStyleModel",
     "state": {
      "_model_module": "@jupyter-widgets/controls",
      "_model_module_version": "1.5.0",
      "_model_name": "DescriptionStyleModel",
      "_view_count": null,
      "_view_module": "@jupyter-widgets/base",
      "_view_module_version": "1.2.0",
      "_view_name": "StyleView",
      "description_width": ""
     }
    },
    "8a849ae6a6f347c288e8f7bc71fcdc02": {
     "model_module": "@jupyter-widgets/controls",
     "model_module_version": "1.5.0",
     "model_name": "ProgressStyleModel",
     "state": {
      "_model_module": "@jupyter-widgets/controls",
      "_model_module_version": "1.5.0",
      "_model_name": "ProgressStyleModel",
      "_view_count": null,
      "_view_module": "@jupyter-widgets/base",
      "_view_module_version": "1.2.0",
      "_view_name": "StyleView",
      "bar_color": null,
      "description_width": ""
     }
    },
    "8c4580ce7ef54ec3b8cda3698606b4bc": {
     "model_module": "@jupyter-widgets/base",
     "model_module_version": "1.2.0",
     "model_name": "LayoutModel",
     "state": {
      "_model_module": "@jupyter-widgets/base",
      "_model_module_version": "1.2.0",
      "_model_name": "LayoutModel",
      "_view_count": null,
      "_view_module": "@jupyter-widgets/base",
      "_view_module_version": "1.2.0",
      "_view_name": "LayoutView",
      "align_content": null,
      "align_items": null,
      "align_self": null,
      "border": null,
      "bottom": null,
      "display": null,
      "flex": null,
      "flex_flow": null,
      "grid_area": null,
      "grid_auto_columns": null,
      "grid_auto_flow": null,
      "grid_auto_rows": null,
      "grid_column": null,
      "grid_gap": null,
      "grid_row": null,
      "grid_template_areas": null,
      "grid_template_columns": null,
      "grid_template_rows": null,
      "height": null,
      "justify_content": null,
      "justify_items": null,
      "left": null,
      "margin": null,
      "max_height": null,
      "max_width": null,
      "min_height": null,
      "min_width": null,
      "object_fit": null,
      "object_position": null,
      "order": null,
      "overflow": null,
      "overflow_x": null,
      "overflow_y": null,
      "padding": null,
      "right": null,
      "top": null,
      "visibility": null,
      "width": null
     }
    },
    "8f091b4095924f7ea5afd5c41e9e32c3": {
     "model_module": "@jupyter-widgets/controls",
     "model_module_version": "1.5.0",
     "model_name": "FloatProgressModel",
     "state": {
      "_dom_classes": [],
      "_model_module": "@jupyter-widgets/controls",
      "_model_module_version": "1.5.0",
      "_model_name": "FloatProgressModel",
      "_view_count": null,
      "_view_module": "@jupyter-widgets/controls",
      "_view_module_version": "1.5.0",
      "_view_name": "ProgressView",
      "bar_style": "success",
      "description": "",
      "description_tooltip": null,
      "layout": "IPY_MODEL_a1ced32f9b884757be081c9d1ae83541",
      "max": 4,
      "min": 0,
      "orientation": "horizontal",
      "style": "IPY_MODEL_8a849ae6a6f347c288e8f7bc71fcdc02",
      "value": 4
     }
    },
    "92f82244f4754c63a8ce9636ee1465a3": {
     "model_module": "@jupyter-widgets/controls",
     "model_module_version": "1.5.0",
     "model_name": "ProgressStyleModel",
     "state": {
      "_model_module": "@jupyter-widgets/controls",
      "_model_module_version": "1.5.0",
      "_model_name": "ProgressStyleModel",
      "_view_count": null,
      "_view_module": "@jupyter-widgets/base",
      "_view_module_version": "1.2.0",
      "_view_name": "StyleView",
      "bar_color": null,
      "description_width": ""
     }
    },
    "980b7e5bc0274ee28d80674d69066e1a": {
     "model_module": "@jupyter-widgets/controls",
     "model_module_version": "1.5.0",
     "model_name": "HBoxModel",
     "state": {
      "_dom_classes": [],
      "_model_module": "@jupyter-widgets/controls",
      "_model_module_version": "1.5.0",
      "_model_name": "HBoxModel",
      "_view_count": null,
      "_view_module": "@jupyter-widgets/controls",
      "_view_module_version": "1.5.0",
      "_view_name": "HBoxView",
      "box_style": "",
      "children": [
       "IPY_MODEL_25b2bbb406d74d418c90b756520e2908",
       "IPY_MODEL_325e1a58a24f4d85925c68b2e5842d6d",
       "IPY_MODEL_55ad3943ebc1434c945e511698d4a931"
      ],
      "layout": "IPY_MODEL_c857bad86ece492c8cc22755003b49b3"
     }
    },
    "9d7af02f1e1b4bf1875d9d26eaac4ca8": {
     "model_module": "@jupyter-widgets/base",
     "model_module_version": "1.2.0",
     "model_name": "LayoutModel",
     "state": {
      "_model_module": "@jupyter-widgets/base",
      "_model_module_version": "1.2.0",
      "_model_name": "LayoutModel",
      "_view_count": null,
      "_view_module": "@jupyter-widgets/base",
      "_view_module_version": "1.2.0",
      "_view_name": "LayoutView",
      "align_content": null,
      "align_items": null,
      "align_self": null,
      "border": null,
      "bottom": null,
      "display": null,
      "flex": null,
      "flex_flow": null,
      "grid_area": null,
      "grid_auto_columns": null,
      "grid_auto_flow": null,
      "grid_auto_rows": null,
      "grid_column": null,
      "grid_gap": null,
      "grid_row": null,
      "grid_template_areas": null,
      "grid_template_columns": null,
      "grid_template_rows": null,
      "height": null,
      "justify_content": null,
      "justify_items": null,
      "left": null,
      "margin": null,
      "max_height": null,
      "max_width": null,
      "min_height": null,
      "min_width": null,
      "object_fit": null,
      "object_position": null,
      "order": null,
      "overflow": null,
      "overflow_x": null,
      "overflow_y": null,
      "padding": null,
      "right": null,
      "top": null,
      "visibility": null,
      "width": null
     }
    },
    "a1ced32f9b884757be081c9d1ae83541": {
     "model_module": "@jupyter-widgets/base",
     "model_module_version": "1.2.0",
     "model_name": "LayoutModel",
     "state": {
      "_model_module": "@jupyter-widgets/base",
      "_model_module_version": "1.2.0",
      "_model_name": "LayoutModel",
      "_view_count": null,
      "_view_module": "@jupyter-widgets/base",
      "_view_module_version": "1.2.0",
      "_view_name": "LayoutView",
      "align_content": null,
      "align_items": null,
      "align_self": null,
      "border": null,
      "bottom": null,
      "display": null,
      "flex": null,
      "flex_flow": null,
      "grid_area": null,
      "grid_auto_columns": null,
      "grid_auto_flow": null,
      "grid_auto_rows": null,
      "grid_column": null,
      "grid_gap": null,
      "grid_row": null,
      "grid_template_areas": null,
      "grid_template_columns": null,
      "grid_template_rows": null,
      "height": null,
      "justify_content": null,
      "justify_items": null,
      "left": null,
      "margin": null,
      "max_height": null,
      "max_width": null,
      "min_height": null,
      "min_width": null,
      "object_fit": null,
      "object_position": null,
      "order": null,
      "overflow": null,
      "overflow_x": null,
      "overflow_y": null,
      "padding": null,
      "right": null,
      "top": null,
      "visibility": null,
      "width": null
     }
    },
    "b5ceab9f4c71482b8e97a9698f655961": {
     "model_module": "@jupyter-widgets/controls",
     "model_module_version": "1.5.0",
     "model_name": "HTMLModel",
     "state": {
      "_dom_classes": [],
      "_model_module": "@jupyter-widgets/controls",
      "_model_module_version": "1.5.0",
      "_model_name": "HTMLModel",
      "_view_count": null,
      "_view_module": "@jupyter-widgets/controls",
      "_view_module_version": "1.5.0",
      "_view_name": "HTMLView",
      "description": "",
      "description_tooltip": null,
      "layout": "IPY_MODEL_f860da20801d46048c74b20fda88ab86",
      "placeholder": "​",
      "style": "IPY_MODEL_8008f03f4885429b91fc7be7cb6684c9",
      "value": " 4/4 [05:22&lt;00:00, 126.38s/it]"
     }
    },
    "b90a58a6f78648ca9ab4ac31dc1f4182": {
     "model_module": "@jupyter-widgets/controls",
     "model_module_version": "1.5.0",
     "model_name": "FloatProgressModel",
     "state": {
      "_dom_classes": [],
      "_model_module": "@jupyter-widgets/controls",
      "_model_module_version": "1.5.0",
      "_model_name": "FloatProgressModel",
      "_view_count": null,
      "_view_module": "@jupyter-widgets/controls",
      "_view_module_version": "1.5.0",
      "_view_name": "ProgressView",
      "bar_style": "success",
      "description": "",
      "description_tooltip": null,
      "layout": "IPY_MODEL_26c807318a0d489c853898a5b10b843a",
      "max": 4,
      "min": 0,
      "orientation": "horizontal",
      "style": "IPY_MODEL_92f82244f4754c63a8ce9636ee1465a3",
      "value": 4
     }
    },
    "c857bad86ece492c8cc22755003b49b3": {
     "model_module": "@jupyter-widgets/base",
     "model_module_version": "1.2.0",
     "model_name": "LayoutModel",
     "state": {
      "_model_module": "@jupyter-widgets/base",
      "_model_module_version": "1.2.0",
      "_model_name": "LayoutModel",
      "_view_count": null,
      "_view_module": "@jupyter-widgets/base",
      "_view_module_version": "1.2.0",
      "_view_name": "LayoutView",
      "align_content": null,
      "align_items": null,
      "align_self": null,
      "border": null,
      "bottom": null,
      "display": null,
      "flex": null,
      "flex_flow": null,
      "grid_area": null,
      "grid_auto_columns": null,
      "grid_auto_flow": null,
      "grid_auto_rows": null,
      "grid_column": null,
      "grid_gap": null,
      "grid_row": null,
      "grid_template_areas": null,
      "grid_template_columns": null,
      "grid_template_rows": null,
      "height": null,
      "justify_content": null,
      "justify_items": null,
      "left": null,
      "margin": null,
      "max_height": null,
      "max_width": null,
      "min_height": null,
      "min_width": null,
      "object_fit": null,
      "object_position": null,
      "order": null,
      "overflow": null,
      "overflow_x": null,
      "overflow_y": null,
      "padding": null,
      "right": null,
      "top": null,
      "visibility": null,
      "width": null
     }
    },
    "c866327388da4fe7867a587ee80ecbc9": {
     "model_module": "@jupyter-widgets/controls",
     "model_module_version": "1.5.0",
     "model_name": "DescriptionStyleModel",
     "state": {
      "_model_module": "@jupyter-widgets/controls",
      "_model_module_version": "1.5.0",
      "_model_name": "DescriptionStyleModel",
      "_view_count": null,
      "_view_module": "@jupyter-widgets/base",
      "_view_module_version": "1.2.0",
      "_view_name": "StyleView",
      "description_width": ""
     }
    },
    "d771722f68724bfe8891a13f938588e1": {
     "model_module": "@jupyter-widgets/base",
     "model_module_version": "1.2.0",
     "model_name": "LayoutModel",
     "state": {
      "_model_module": "@jupyter-widgets/base",
      "_model_module_version": "1.2.0",
      "_model_name": "LayoutModel",
      "_view_count": null,
      "_view_module": "@jupyter-widgets/base",
      "_view_module_version": "1.2.0",
      "_view_name": "LayoutView",
      "align_content": null,
      "align_items": null,
      "align_self": null,
      "border": null,
      "bottom": null,
      "display": null,
      "flex": null,
      "flex_flow": null,
      "grid_area": null,
      "grid_auto_columns": null,
      "grid_auto_flow": null,
      "grid_auto_rows": null,
      "grid_column": null,
      "grid_gap": null,
      "grid_row": null,
      "grid_template_areas": null,
      "grid_template_columns": null,
      "grid_template_rows": null,
      "height": null,
      "justify_content": null,
      "justify_items": null,
      "left": null,
      "margin": null,
      "max_height": null,
      "max_width": null,
      "min_height": null,
      "min_width": null,
      "object_fit": null,
      "object_position": null,
      "order": null,
      "overflow": null,
      "overflow_x": null,
      "overflow_y": null,
      "padding": null,
      "right": null,
      "top": null,
      "visibility": null,
      "width": null
     }
    },
    "e56c6cc15a6c4170a5b61a297c79da2f": {
     "model_module": "@jupyter-widgets/base",
     "model_module_version": "1.2.0",
     "model_name": "LayoutModel",
     "state": {
      "_model_module": "@jupyter-widgets/base",
      "_model_module_version": "1.2.0",
      "_model_name": "LayoutModel",
      "_view_count": null,
      "_view_module": "@jupyter-widgets/base",
      "_view_module_version": "1.2.0",
      "_view_name": "LayoutView",
      "align_content": null,
      "align_items": null,
      "align_self": null,
      "border": null,
      "bottom": null,
      "display": null,
      "flex": null,
      "flex_flow": null,
      "grid_area": null,
      "grid_auto_columns": null,
      "grid_auto_flow": null,
      "grid_auto_rows": null,
      "grid_column": null,
      "grid_gap": null,
      "grid_row": null,
      "grid_template_areas": null,
      "grid_template_columns": null,
      "grid_template_rows": null,
      "height": null,
      "justify_content": null,
      "justify_items": null,
      "left": null,
      "margin": null,
      "max_height": null,
      "max_width": null,
      "min_height": null,
      "min_width": null,
      "object_fit": null,
      "object_position": null,
      "order": null,
      "overflow": null,
      "overflow_x": null,
      "overflow_y": null,
      "padding": null,
      "right": null,
      "top": null,
      "visibility": null,
      "width": null
     }
    },
    "ecb01f54d15e40beb40e4df584859db6": {
     "model_module": "@jupyter-widgets/controls",
     "model_module_version": "1.5.0",
     "model_name": "HTMLModel",
     "state": {
      "_dom_classes": [],
      "_model_module": "@jupyter-widgets/controls",
      "_model_module_version": "1.5.0",
      "_model_name": "HTMLModel",
      "_view_count": null,
      "_view_module": "@jupyter-widgets/controls",
      "_view_module_version": "1.5.0",
      "_view_name": "HTMLView",
      "description": "",
      "description_tooltip": null,
      "layout": "IPY_MODEL_1294b584231340b6a5a201be70f3ad02",
      "placeholder": "​",
      "style": "IPY_MODEL_8419627a09bc4568b9fcfa3900933268",
      "value": "100%"
     }
    },
    "f4fd00d2be974fb4b4e656f736b7c086": {
     "model_module": "@jupyter-widgets/controls",
     "model_module_version": "1.5.0",
     "model_name": "HTMLModel",
     "state": {
      "_dom_classes": [],
      "_model_module": "@jupyter-widgets/controls",
      "_model_module_version": "1.5.0",
      "_model_name": "HTMLModel",
      "_view_count": null,
      "_view_module": "@jupyter-widgets/controls",
      "_view_module_version": "1.5.0",
      "_view_name": "HTMLView",
      "description": "",
      "description_tooltip": null,
      "layout": "IPY_MODEL_d771722f68724bfe8891a13f938588e1",
      "placeholder": "​",
      "style": "IPY_MODEL_c866327388da4fe7867a587ee80ecbc9",
      "value": " 3/3 [17:26&lt;00:00, 355.32s/it]"
     }
    },
    "f767ce3869834141b67b393b5bc3d124": {
     "model_module": "@jupyter-widgets/base",
     "model_module_version": "1.2.0",
     "model_name": "LayoutModel",
     "state": {
      "_model_module": "@jupyter-widgets/base",
      "_model_module_version": "1.2.0",
      "_model_name": "LayoutModel",
      "_view_count": null,
      "_view_module": "@jupyter-widgets/base",
      "_view_module_version": "1.2.0",
      "_view_name": "LayoutView",
      "align_content": null,
      "align_items": null,
      "align_self": null,
      "border": null,
      "bottom": null,
      "display": null,
      "flex": null,
      "flex_flow": null,
      "grid_area": null,
      "grid_auto_columns": null,
      "grid_auto_flow": null,
      "grid_auto_rows": null,
      "grid_column": null,
      "grid_gap": null,
      "grid_row": null,
      "grid_template_areas": null,
      "grid_template_columns": null,
      "grid_template_rows": null,
      "height": null,
      "justify_content": null,
      "justify_items": null,
      "left": null,
      "margin": null,
      "max_height": null,
      "max_width": null,
      "min_height": null,
      "min_width": null,
      "object_fit": null,
      "object_position": null,
      "order": null,
      "overflow": null,
      "overflow_x": null,
      "overflow_y": null,
      "padding": null,
      "right": null,
      "top": null,
      "visibility": null,
      "width": null
     }
    },
    "f860da20801d46048c74b20fda88ab86": {
     "model_module": "@jupyter-widgets/base",
     "model_module_version": "1.2.0",
     "model_name": "LayoutModel",
     "state": {
      "_model_module": "@jupyter-widgets/base",
      "_model_module_version": "1.2.0",
      "_model_name": "LayoutModel",
      "_view_count": null,
      "_view_module": "@jupyter-widgets/base",
      "_view_module_version": "1.2.0",
      "_view_name": "LayoutView",
      "align_content": null,
      "align_items": null,
      "align_self": null,
      "border": null,
      "bottom": null,
      "display": null,
      "flex": null,
      "flex_flow": null,
      "grid_area": null,
      "grid_auto_columns": null,
      "grid_auto_flow": null,
      "grid_auto_rows": null,
      "grid_column": null,
      "grid_gap": null,
      "grid_row": null,
      "grid_template_areas": null,
      "grid_template_columns": null,
      "grid_template_rows": null,
      "height": null,
      "justify_content": null,
      "justify_items": null,
      "left": null,
      "margin": null,
      "max_height": null,
      "max_width": null,
      "min_height": null,
      "min_width": null,
      "object_fit": null,
      "object_position": null,
      "order": null,
      "overflow": null,
      "overflow_x": null,
      "overflow_y": null,
      "padding": null,
      "right": null,
      "top": null,
      "visibility": null,
      "width": null
     }
    }
   }
  }
 },
 "nbformat": 4,
 "nbformat_minor": 5
}
